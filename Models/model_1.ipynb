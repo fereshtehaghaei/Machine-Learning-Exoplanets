{
 "cells": [
  {
   "cell_type": "markdown",
   "metadata": {},
   "source": [
    "## Machine Learning- Exoplanet Exploration"
   ]
  },
  {
   "cell_type": "markdown",
   "metadata": {},
   "source": [
    "#### Extensive Data Dictionary: https://exoplanetarchive.ipac.caltech.edu/docs/API_kepcandidate_columns.html\n",
    "\n",
    "Highlightable columns of note are:\n",
    "\n",
    "* kepoi_name: A KOI is a target identified by the Kepler Project that displays at least one transit-like sequence within Kepler time-series photometry that appears to be of astrophysical origin and initially consistent with a planetary transit hypothesis\n",
    "\n",
    "* kepler_name: [These names] are intended to clearly indicate a class of objects that have been confirmed or validated as planets—a step up from the planet candidate designation.\n",
    "\n",
    "* koi_disposition: The disposition in the literature towards this exoplanet candidate. One of CANDIDATE, FALSE POSITIVE, NOT DISPOSITIONED or CONFIRMED.\n",
    "\n",
    "* koi_pdisposition: The disposition Kepler data analysis has towards this exoplanet candidate. One of FALSE POSITIVE, NOT DISPOSITIONED, and CANDIDATE.\n",
    "\n",
    "* koi_score: A value between 0 and 1 that indicates the confidence in the KOI disposition. For CANDIDATEs, a higher value indicates more confidence in its disposition, while for FALSE POSITIVEs, a higher value indicates less confidence in that disposition.\n"
   ]
  },
  {
   "cell_type": "code",
   "execution_count": 1,
   "metadata": {},
   "outputs": [],
   "source": [
    "# # Update sklearn to prevent version mismatches\n",
    "# !pip install sklearn --upgrade\n",
    "# # install joblib\n",
    "# !pip install joblib"
   ]
  },
  {
   "cell_type": "markdown",
   "metadata": {},
   "source": [
    "### Import Dependencies "
   ]
  },
  {
   "cell_type": "code",
   "execution_count": 2,
   "metadata": {},
   "outputs": [],
   "source": [
    "%matplotlib inline\n",
    "import matplotlib.pyplot as plt\n",
    "import numpy as np\n",
    "import pandas as pd\n",
    "\n",
    "# Hide warning messages in notebook\n",
    "import warnings\n",
    "warnings.filterwarnings('ignore')"
   ]
  },
  {
   "cell_type": "markdown",
   "metadata": {},
   "source": [
    "# Read the CSV and Perform Basic Data Cleaning"
   ]
  },
  {
   "cell_type": "code",
   "execution_count": 3,
   "metadata": {},
   "outputs": [
    {
     "data": {
      "text/html": [
       "<div>\n",
       "<style scoped>\n",
       "    .dataframe tbody tr th:only-of-type {\n",
       "        vertical-align: middle;\n",
       "    }\n",
       "\n",
       "    .dataframe tbody tr th {\n",
       "        vertical-align: top;\n",
       "    }\n",
       "\n",
       "    .dataframe thead th {\n",
       "        text-align: right;\n",
       "    }\n",
       "</style>\n",
       "<table border=\"1\" class=\"dataframe\">\n",
       "  <thead>\n",
       "    <tr style=\"text-align: right;\">\n",
       "      <th></th>\n",
       "      <th>koi_disposition</th>\n",
       "      <th>koi_fpflag_nt</th>\n",
       "      <th>koi_fpflag_ss</th>\n",
       "      <th>koi_fpflag_co</th>\n",
       "      <th>koi_fpflag_ec</th>\n",
       "      <th>koi_period</th>\n",
       "      <th>koi_period_err1</th>\n",
       "      <th>koi_period_err2</th>\n",
       "      <th>koi_time0bk</th>\n",
       "      <th>koi_time0bk_err1</th>\n",
       "      <th>...</th>\n",
       "      <th>koi_steff_err2</th>\n",
       "      <th>koi_slogg</th>\n",
       "      <th>koi_slogg_err1</th>\n",
       "      <th>koi_slogg_err2</th>\n",
       "      <th>koi_srad</th>\n",
       "      <th>koi_srad_err1</th>\n",
       "      <th>koi_srad_err2</th>\n",
       "      <th>ra</th>\n",
       "      <th>dec</th>\n",
       "      <th>koi_kepmag</th>\n",
       "    </tr>\n",
       "  </thead>\n",
       "  <tbody>\n",
       "    <tr>\n",
       "      <td>0</td>\n",
       "      <td>CONFIRMED</td>\n",
       "      <td>0</td>\n",
       "      <td>0</td>\n",
       "      <td>0</td>\n",
       "      <td>0</td>\n",
       "      <td>54.418383</td>\n",
       "      <td>2.479000e-04</td>\n",
       "      <td>-2.479000e-04</td>\n",
       "      <td>162.513840</td>\n",
       "      <td>0.003520</td>\n",
       "      <td>...</td>\n",
       "      <td>-81</td>\n",
       "      <td>4.467</td>\n",
       "      <td>0.064</td>\n",
       "      <td>-0.096</td>\n",
       "      <td>0.927</td>\n",
       "      <td>0.105</td>\n",
       "      <td>-0.061</td>\n",
       "      <td>291.93423</td>\n",
       "      <td>48.141651</td>\n",
       "      <td>15.347</td>\n",
       "    </tr>\n",
       "    <tr>\n",
       "      <td>1</td>\n",
       "      <td>FALSE POSITIVE</td>\n",
       "      <td>0</td>\n",
       "      <td>1</td>\n",
       "      <td>0</td>\n",
       "      <td>0</td>\n",
       "      <td>19.899140</td>\n",
       "      <td>1.490000e-05</td>\n",
       "      <td>-1.490000e-05</td>\n",
       "      <td>175.850252</td>\n",
       "      <td>0.000581</td>\n",
       "      <td>...</td>\n",
       "      <td>-176</td>\n",
       "      <td>4.544</td>\n",
       "      <td>0.044</td>\n",
       "      <td>-0.176</td>\n",
       "      <td>0.868</td>\n",
       "      <td>0.233</td>\n",
       "      <td>-0.078</td>\n",
       "      <td>297.00482</td>\n",
       "      <td>48.134129</td>\n",
       "      <td>15.436</td>\n",
       "    </tr>\n",
       "    <tr>\n",
       "      <td>2</td>\n",
       "      <td>FALSE POSITIVE</td>\n",
       "      <td>0</td>\n",
       "      <td>1</td>\n",
       "      <td>0</td>\n",
       "      <td>0</td>\n",
       "      <td>1.736952</td>\n",
       "      <td>2.630000e-07</td>\n",
       "      <td>-2.630000e-07</td>\n",
       "      <td>170.307565</td>\n",
       "      <td>0.000115</td>\n",
       "      <td>...</td>\n",
       "      <td>-174</td>\n",
       "      <td>4.564</td>\n",
       "      <td>0.053</td>\n",
       "      <td>-0.168</td>\n",
       "      <td>0.791</td>\n",
       "      <td>0.201</td>\n",
       "      <td>-0.067</td>\n",
       "      <td>285.53461</td>\n",
       "      <td>48.285210</td>\n",
       "      <td>15.597</td>\n",
       "    </tr>\n",
       "    <tr>\n",
       "      <td>3</td>\n",
       "      <td>CONFIRMED</td>\n",
       "      <td>0</td>\n",
       "      <td>0</td>\n",
       "      <td>0</td>\n",
       "      <td>0</td>\n",
       "      <td>2.525592</td>\n",
       "      <td>3.760000e-06</td>\n",
       "      <td>-3.760000e-06</td>\n",
       "      <td>171.595550</td>\n",
       "      <td>0.001130</td>\n",
       "      <td>...</td>\n",
       "      <td>-211</td>\n",
       "      <td>4.438</td>\n",
       "      <td>0.070</td>\n",
       "      <td>-0.210</td>\n",
       "      <td>1.046</td>\n",
       "      <td>0.334</td>\n",
       "      <td>-0.133</td>\n",
       "      <td>288.75488</td>\n",
       "      <td>48.226200</td>\n",
       "      <td>15.509</td>\n",
       "    </tr>\n",
       "    <tr>\n",
       "      <td>4</td>\n",
       "      <td>CONFIRMED</td>\n",
       "      <td>0</td>\n",
       "      <td>0</td>\n",
       "      <td>0</td>\n",
       "      <td>0</td>\n",
       "      <td>4.134435</td>\n",
       "      <td>1.050000e-05</td>\n",
       "      <td>-1.050000e-05</td>\n",
       "      <td>172.979370</td>\n",
       "      <td>0.001900</td>\n",
       "      <td>...</td>\n",
       "      <td>-232</td>\n",
       "      <td>4.486</td>\n",
       "      <td>0.054</td>\n",
       "      <td>-0.229</td>\n",
       "      <td>0.972</td>\n",
       "      <td>0.315</td>\n",
       "      <td>-0.105</td>\n",
       "      <td>296.28613</td>\n",
       "      <td>48.224670</td>\n",
       "      <td>15.714</td>\n",
       "    </tr>\n",
       "  </tbody>\n",
       "</table>\n",
       "<p>5 rows × 41 columns</p>\n",
       "</div>"
      ],
      "text/plain": [
       "  koi_disposition  koi_fpflag_nt  koi_fpflag_ss  koi_fpflag_co  koi_fpflag_ec  \\\n",
       "0       CONFIRMED              0              0              0              0   \n",
       "1  FALSE POSITIVE              0              1              0              0   \n",
       "2  FALSE POSITIVE              0              1              0              0   \n",
       "3       CONFIRMED              0              0              0              0   \n",
       "4       CONFIRMED              0              0              0              0   \n",
       "\n",
       "   koi_period  koi_period_err1  koi_period_err2  koi_time0bk  \\\n",
       "0   54.418383     2.479000e-04    -2.479000e-04   162.513840   \n",
       "1   19.899140     1.490000e-05    -1.490000e-05   175.850252   \n",
       "2    1.736952     2.630000e-07    -2.630000e-07   170.307565   \n",
       "3    2.525592     3.760000e-06    -3.760000e-06   171.595550   \n",
       "4    4.134435     1.050000e-05    -1.050000e-05   172.979370   \n",
       "\n",
       "   koi_time0bk_err1  ...  koi_steff_err2  koi_slogg  koi_slogg_err1  \\\n",
       "0          0.003520  ...             -81      4.467           0.064   \n",
       "1          0.000581  ...            -176      4.544           0.044   \n",
       "2          0.000115  ...            -174      4.564           0.053   \n",
       "3          0.001130  ...            -211      4.438           0.070   \n",
       "4          0.001900  ...            -232      4.486           0.054   \n",
       "\n",
       "   koi_slogg_err2  koi_srad  koi_srad_err1  koi_srad_err2         ra  \\\n",
       "0          -0.096     0.927          0.105         -0.061  291.93423   \n",
       "1          -0.176     0.868          0.233         -0.078  297.00482   \n",
       "2          -0.168     0.791          0.201         -0.067  285.53461   \n",
       "3          -0.210     1.046          0.334         -0.133  288.75488   \n",
       "4          -0.229     0.972          0.315         -0.105  296.28613   \n",
       "\n",
       "         dec  koi_kepmag  \n",
       "0  48.141651      15.347  \n",
       "1  48.134129      15.436  \n",
       "2  48.285210      15.597  \n",
       "3  48.226200      15.509  \n",
       "4  48.224670      15.714  \n",
       "\n",
       "[5 rows x 41 columns]"
      ]
     },
     "execution_count": 3,
     "metadata": {},
     "output_type": "execute_result"
    }
   ],
   "source": [
    "# Read/Load CSV file\n",
    "df = pd.read_csv(\"exoplanet_data.csv\")\n",
    "\n",
    "# Drop the null columns where all values are null\n",
    "df = df.dropna(axis='columns', how='all')\n",
    "\n",
    "# Drop the null rows\n",
    "df = df.dropna()\n",
    "df.head()"
   ]
  },
  {
   "cell_type": "markdown",
   "metadata": {},
   "source": [
    "## Basic Statistic Details"
   ]
  },
  {
   "cell_type": "code",
   "execution_count": 4,
   "metadata": {},
   "outputs": [
    {
     "data": {
      "text/html": [
       "<div>\n",
       "<style scoped>\n",
       "    .dataframe tbody tr th:only-of-type {\n",
       "        vertical-align: middle;\n",
       "    }\n",
       "\n",
       "    .dataframe tbody tr th {\n",
       "        vertical-align: top;\n",
       "    }\n",
       "\n",
       "    .dataframe thead th {\n",
       "        text-align: right;\n",
       "    }\n",
       "</style>\n",
       "<table border=\"1\" class=\"dataframe\">\n",
       "  <thead>\n",
       "    <tr style=\"text-align: right;\">\n",
       "      <th></th>\n",
       "      <th>koi_fpflag_nt</th>\n",
       "      <th>koi_fpflag_ss</th>\n",
       "      <th>koi_fpflag_co</th>\n",
       "      <th>koi_fpflag_ec</th>\n",
       "      <th>koi_period</th>\n",
       "      <th>koi_period_err1</th>\n",
       "      <th>koi_period_err2</th>\n",
       "      <th>koi_time0bk</th>\n",
       "      <th>koi_time0bk_err1</th>\n",
       "      <th>koi_time0bk_err2</th>\n",
       "      <th>...</th>\n",
       "      <th>koi_steff_err2</th>\n",
       "      <th>koi_slogg</th>\n",
       "      <th>koi_slogg_err1</th>\n",
       "      <th>koi_slogg_err2</th>\n",
       "      <th>koi_srad</th>\n",
       "      <th>koi_srad_err1</th>\n",
       "      <th>koi_srad_err2</th>\n",
       "      <th>ra</th>\n",
       "      <th>dec</th>\n",
       "      <th>koi_kepmag</th>\n",
       "    </tr>\n",
       "  </thead>\n",
       "  <tbody>\n",
       "    <tr>\n",
       "      <td>count</td>\n",
       "      <td>6991.000000</td>\n",
       "      <td>6991.000000</td>\n",
       "      <td>6991.000000</td>\n",
       "      <td>6991.000000</td>\n",
       "      <td>6991.000000</td>\n",
       "      <td>6.991000e+03</td>\n",
       "      <td>6.991000e+03</td>\n",
       "      <td>6991.000000</td>\n",
       "      <td>6991.000000</td>\n",
       "      <td>6991.000000</td>\n",
       "      <td>...</td>\n",
       "      <td>6991.000000</td>\n",
       "      <td>6991.000000</td>\n",
       "      <td>6991.000000</td>\n",
       "      <td>6991.00000</td>\n",
       "      <td>6991.000000</td>\n",
       "      <td>6991.000000</td>\n",
       "      <td>6991.000000</td>\n",
       "      <td>6991.000000</td>\n",
       "      <td>6991.000000</td>\n",
       "      <td>6991.000000</td>\n",
       "    </tr>\n",
       "    <tr>\n",
       "      <td>mean</td>\n",
       "      <td>0.157059</td>\n",
       "      <td>0.244743</td>\n",
       "      <td>0.202975</td>\n",
       "      <td>0.125018</td>\n",
       "      <td>56.191248</td>\n",
       "      <td>1.851122e-03</td>\n",
       "      <td>-1.851122e-03</td>\n",
       "      <td>164.488820</td>\n",
       "      <td>0.009340</td>\n",
       "      <td>-0.009340</td>\n",
       "      <td>...</td>\n",
       "      <td>-161.206980</td>\n",
       "      <td>4.305049</td>\n",
       "      <td>0.121091</td>\n",
       "      <td>-0.14048</td>\n",
       "      <td>1.740749</td>\n",
       "      <td>0.352710</td>\n",
       "      <td>-0.388568</td>\n",
       "      <td>292.082406</td>\n",
       "      <td>43.812143</td>\n",
       "      <td>14.271508</td>\n",
       "    </tr>\n",
       "    <tr>\n",
       "      <td>std</td>\n",
       "      <td>0.363882</td>\n",
       "      <td>0.429966</td>\n",
       "      <td>0.402243</td>\n",
       "      <td>0.330763</td>\n",
       "      <td>117.570962</td>\n",
       "      <td>7.184503e-03</td>\n",
       "      <td>7.184503e-03</td>\n",
       "      <td>67.020475</td>\n",
       "      <td>0.021989</td>\n",
       "      <td>0.021989</td>\n",
       "      <td>...</td>\n",
       "      <td>71.448481</td>\n",
       "      <td>0.439238</td>\n",
       "      <td>0.132048</td>\n",
       "      <td>0.08199</td>\n",
       "      <td>5.903415</td>\n",
       "      <td>0.839017</td>\n",
       "      <td>1.907797</td>\n",
       "      <td>4.762908</td>\n",
       "      <td>3.606167</td>\n",
       "      <td>1.350802</td>\n",
       "    </tr>\n",
       "    <tr>\n",
       "      <td>min</td>\n",
       "      <td>0.000000</td>\n",
       "      <td>0.000000</td>\n",
       "      <td>0.000000</td>\n",
       "      <td>0.000000</td>\n",
       "      <td>0.259820</td>\n",
       "      <td>1.100000e-08</td>\n",
       "      <td>-1.568000e-01</td>\n",
       "      <td>120.515914</td>\n",
       "      <td>0.000009</td>\n",
       "      <td>-0.569000</td>\n",
       "      <td>...</td>\n",
       "      <td>-1733.000000</td>\n",
       "      <td>0.047000</td>\n",
       "      <td>0.000000</td>\n",
       "      <td>-1.00700</td>\n",
       "      <td>0.109000</td>\n",
       "      <td>0.000000</td>\n",
       "      <td>-103.825000</td>\n",
       "      <td>279.856080</td>\n",
       "      <td>36.577381</td>\n",
       "      <td>6.966000</td>\n",
       "    </tr>\n",
       "    <tr>\n",
       "      <td>25%</td>\n",
       "      <td>0.000000</td>\n",
       "      <td>0.000000</td>\n",
       "      <td>0.000000</td>\n",
       "      <td>0.000000</td>\n",
       "      <td>2.620126</td>\n",
       "      <td>5.005000e-06</td>\n",
       "      <td>-2.401000e-04</td>\n",
       "      <td>132.683917</td>\n",
       "      <td>0.001145</td>\n",
       "      <td>-0.010000</td>\n",
       "      <td>...</td>\n",
       "      <td>-197.000000</td>\n",
       "      <td>4.209000</td>\n",
       "      <td>0.044000</td>\n",
       "      <td>-0.19500</td>\n",
       "      <td>0.829000</td>\n",
       "      <td>0.128000</td>\n",
       "      <td>-0.252000</td>\n",
       "      <td>288.704730</td>\n",
       "      <td>40.797760</td>\n",
       "      <td>13.455000</td>\n",
       "    </tr>\n",
       "    <tr>\n",
       "      <td>50%</td>\n",
       "      <td>0.000000</td>\n",
       "      <td>0.000000</td>\n",
       "      <td>0.000000</td>\n",
       "      <td>0.000000</td>\n",
       "      <td>8.947426</td>\n",
       "      <td>3.300000e-05</td>\n",
       "      <td>-3.300000e-05</td>\n",
       "      <td>136.739230</td>\n",
       "      <td>0.003990</td>\n",
       "      <td>-0.003990</td>\n",
       "      <td>...</td>\n",
       "      <td>-159.000000</td>\n",
       "      <td>4.436000</td>\n",
       "      <td>0.070000</td>\n",
       "      <td>-0.12700</td>\n",
       "      <td>0.999000</td>\n",
       "      <td>0.248000</td>\n",
       "      <td>-0.111000</td>\n",
       "      <td>292.314760</td>\n",
       "      <td>43.679661</td>\n",
       "      <td>14.534000</td>\n",
       "    </tr>\n",
       "    <tr>\n",
       "      <td>75%</td>\n",
       "      <td>0.000000</td>\n",
       "      <td>0.000000</td>\n",
       "      <td>0.000000</td>\n",
       "      <td>0.000000</td>\n",
       "      <td>34.282605</td>\n",
       "      <td>2.401000e-04</td>\n",
       "      <td>-5.005000e-06</td>\n",
       "      <td>169.937005</td>\n",
       "      <td>0.010000</td>\n",
       "      <td>-0.001145</td>\n",
       "      <td>...</td>\n",
       "      <td>-112.000000</td>\n",
       "      <td>4.543000</td>\n",
       "      <td>0.149000</td>\n",
       "      <td>-0.08800</td>\n",
       "      <td>1.357000</td>\n",
       "      <td>0.357000</td>\n",
       "      <td>-0.069000</td>\n",
       "      <td>295.888550</td>\n",
       "      <td>46.693659</td>\n",
       "      <td>15.322000</td>\n",
       "    </tr>\n",
       "    <tr>\n",
       "      <td>max</td>\n",
       "      <td>1.000000</td>\n",
       "      <td>1.000000</td>\n",
       "      <td>1.000000</td>\n",
       "      <td>1.000000</td>\n",
       "      <td>1071.232624</td>\n",
       "      <td>1.568000e-01</td>\n",
       "      <td>-1.100000e-08</td>\n",
       "      <td>1472.522306</td>\n",
       "      <td>0.569000</td>\n",
       "      <td>-0.000009</td>\n",
       "      <td>...</td>\n",
       "      <td>0.000000</td>\n",
       "      <td>5.364000</td>\n",
       "      <td>1.472000</td>\n",
       "      <td>0.00000</td>\n",
       "      <td>180.013000</td>\n",
       "      <td>25.956000</td>\n",
       "      <td>0.000000</td>\n",
       "      <td>301.720760</td>\n",
       "      <td>52.336010</td>\n",
       "      <td>19.065000</td>\n",
       "    </tr>\n",
       "  </tbody>\n",
       "</table>\n",
       "<p>8 rows × 40 columns</p>\n",
       "</div>"
      ],
      "text/plain": [
       "       koi_fpflag_nt  koi_fpflag_ss  koi_fpflag_co  koi_fpflag_ec  \\\n",
       "count    6991.000000    6991.000000    6991.000000    6991.000000   \n",
       "mean        0.157059       0.244743       0.202975       0.125018   \n",
       "std         0.363882       0.429966       0.402243       0.330763   \n",
       "min         0.000000       0.000000       0.000000       0.000000   \n",
       "25%         0.000000       0.000000       0.000000       0.000000   \n",
       "50%         0.000000       0.000000       0.000000       0.000000   \n",
       "75%         0.000000       0.000000       0.000000       0.000000   \n",
       "max         1.000000       1.000000       1.000000       1.000000   \n",
       "\n",
       "        koi_period  koi_period_err1  koi_period_err2  koi_time0bk  \\\n",
       "count  6991.000000     6.991000e+03     6.991000e+03  6991.000000   \n",
       "mean     56.191248     1.851122e-03    -1.851122e-03   164.488820   \n",
       "std     117.570962     7.184503e-03     7.184503e-03    67.020475   \n",
       "min       0.259820     1.100000e-08    -1.568000e-01   120.515914   \n",
       "25%       2.620126     5.005000e-06    -2.401000e-04   132.683917   \n",
       "50%       8.947426     3.300000e-05    -3.300000e-05   136.739230   \n",
       "75%      34.282605     2.401000e-04    -5.005000e-06   169.937005   \n",
       "max    1071.232624     1.568000e-01    -1.100000e-08  1472.522306   \n",
       "\n",
       "       koi_time0bk_err1  koi_time0bk_err2  ...  koi_steff_err2    koi_slogg  \\\n",
       "count       6991.000000       6991.000000  ...     6991.000000  6991.000000   \n",
       "mean           0.009340         -0.009340  ...     -161.206980     4.305049   \n",
       "std            0.021989          0.021989  ...       71.448481     0.439238   \n",
       "min            0.000009         -0.569000  ...    -1733.000000     0.047000   \n",
       "25%            0.001145         -0.010000  ...     -197.000000     4.209000   \n",
       "50%            0.003990         -0.003990  ...     -159.000000     4.436000   \n",
       "75%            0.010000         -0.001145  ...     -112.000000     4.543000   \n",
       "max            0.569000         -0.000009  ...        0.000000     5.364000   \n",
       "\n",
       "       koi_slogg_err1  koi_slogg_err2     koi_srad  koi_srad_err1  \\\n",
       "count     6991.000000      6991.00000  6991.000000    6991.000000   \n",
       "mean         0.121091        -0.14048     1.740749       0.352710   \n",
       "std          0.132048         0.08199     5.903415       0.839017   \n",
       "min          0.000000        -1.00700     0.109000       0.000000   \n",
       "25%          0.044000        -0.19500     0.829000       0.128000   \n",
       "50%          0.070000        -0.12700     0.999000       0.248000   \n",
       "75%          0.149000        -0.08800     1.357000       0.357000   \n",
       "max          1.472000         0.00000   180.013000      25.956000   \n",
       "\n",
       "       koi_srad_err2           ra          dec   koi_kepmag  \n",
       "count    6991.000000  6991.000000  6991.000000  6991.000000  \n",
       "mean       -0.388568   292.082406    43.812143    14.271508  \n",
       "std         1.907797     4.762908     3.606167     1.350802  \n",
       "min      -103.825000   279.856080    36.577381     6.966000  \n",
       "25%        -0.252000   288.704730    40.797760    13.455000  \n",
       "50%        -0.111000   292.314760    43.679661    14.534000  \n",
       "75%        -0.069000   295.888550    46.693659    15.322000  \n",
       "max         0.000000   301.720760    52.336010    19.065000  \n",
       "\n",
       "[8 rows x 40 columns]"
      ]
     },
     "execution_count": 4,
     "metadata": {},
     "output_type": "execute_result"
    }
   ],
   "source": [
    "df.describe()"
   ]
  },
  {
   "cell_type": "markdown",
   "metadata": {},
   "source": [
    "# Select Features (columns)\n",
    "* Feature Selection: Removing irrelevant feature results in better performing model that is easeir to understands & model runs faster\n"
   ]
  },
  {
   "cell_type": "code",
   "execution_count": 24,
   "metadata": {},
   "outputs": [
    {
     "name": "stdout",
     "output_type": "stream",
     "text": [
      "['CONFIRMED' 'FALSE POSITIVE' 'CANDIDATE']\n"
     ]
    }
   ],
   "source": [
    "target_names = df[\"koi_disposition\"].unique()\n",
    "#target_names\n",
    "print(df[\"koi_disposition\"].unique())"
   ]
  },
  {
   "cell_type": "code",
   "execution_count": 25,
   "metadata": {},
   "outputs": [],
   "source": [
    "# Assign X (Independant data) and y (Dependant target)\n",
    "\n",
    "# Set X equal to the entire data set, except for the first column\n",
    "X = df.iloc[:, 1:]\n",
    "# X.head()\n",
    "\n",
    "# Set y equal to the first column\n",
    "y = df.iloc[:,0].values.reshape(-1, 1)\n",
    "# y.head()"
   ]
  },
  {
   "cell_type": "code",
   "execution_count": 26,
   "metadata": {},
   "outputs": [
    {
     "data": {
      "text/plain": [
       "array([0.15511083, 0.17745117, 0.12265767, 0.05688023, 0.01793089,\n",
       "       0.01328461, 0.00987712, 0.01102556, 0.01643729, 0.01767205,\n",
       "       0.01061325, 0.01110032, 0.00867455, 0.01960285, 0.03957704,\n",
       "       0.02528608, 0.01676593, 0.0101311 , 0.0101305 , 0.01225717,\n",
       "       0.00896745, 0.0091171 , 0.01423994, 0.00863058, 0.00862274,\n",
       "       0.00883035, 0.03168312, 0.00889892, 0.01031239, 0.01723097,\n",
       "       0.01225381, 0.01289126, 0.01046478, 0.01367504, 0.00977122,\n",
       "       0.00932827, 0.00977346, 0.01247569, 0.01033136, 0.01003539])"
      ]
     },
     "execution_count": 26,
     "metadata": {},
     "output_type": "execute_result"
    }
   ],
   "source": [
    "from sklearn.ensemble import ExtraTreesClassifier\n",
    "\n",
    "# Search for top 10 features according to feature importances\n",
    "model = ExtraTreesClassifier()\n",
    "model.fit(X,y)\n",
    "model.feature_importances_\n",
    "\n",
    "# sorted(zip(model.feature_importances_, X), reverse=True)"
   ]
  },
  {
   "cell_type": "code",
   "execution_count": 27,
   "metadata": {},
   "outputs": [
    {
     "data": {
      "text/plain": [
       "koi_fpflag_ss        0.177451\n",
       "koi_fpflag_nt        0.155111\n",
       "koi_fpflag_co        0.122658\n",
       "koi_fpflag_ec        0.056880\n",
       "koi_duration_err1    0.039577\n",
       "koi_model_snr        0.031683\n",
       "koi_duration_err2    0.025286\n",
       "koi_duration         0.019603\n",
       "koi_period           0.017931\n",
       "koi_time0bk_err2     0.017672\n",
       "dtype: float64"
      ]
     },
     "execution_count": 27,
     "metadata": {},
     "output_type": "execute_result"
    }
   ],
   "source": [
    "# Store the top (10) features  as a series, using the column headers as the index\n",
    "top_feat = pd.Series(model.feature_importances_, index=X.columns).nlargest(10)\n",
    "top_feat"
   ]
  },
  {
   "cell_type": "code",
   "execution_count": 71,
   "metadata": {},
   "outputs": [],
   "source": [
    "# Set features based on feature importances\n",
    "X = df[top_feat.index]\n",
    "\n",
    "# Use `koi_disposition` for the y values\n",
    "y = df['koi_disposition']\n",
    "\n",
    "#y = df['koi_disposition'].values.reshape(-1, 1)"
   ]
  },
  {
   "cell_type": "markdown",
   "metadata": {},
   "source": [
    "# Create a Train Test Split"
   ]
  },
  {
   "cell_type": "code",
   "execution_count": 72,
   "metadata": {},
   "outputs": [
    {
     "data": {
      "text/html": [
       "<div>\n",
       "<style scoped>\n",
       "    .dataframe tbody tr th:only-of-type {\n",
       "        vertical-align: middle;\n",
       "    }\n",
       "\n",
       "    .dataframe tbody tr th {\n",
       "        vertical-align: top;\n",
       "    }\n",
       "\n",
       "    .dataframe thead th {\n",
       "        text-align: right;\n",
       "    }\n",
       "</style>\n",
       "<table border=\"1\" class=\"dataframe\">\n",
       "  <thead>\n",
       "    <tr style=\"text-align: right;\">\n",
       "      <th></th>\n",
       "      <th>koi_fpflag_ss</th>\n",
       "      <th>koi_fpflag_nt</th>\n",
       "      <th>koi_fpflag_co</th>\n",
       "      <th>koi_fpflag_ec</th>\n",
       "      <th>koi_duration_err1</th>\n",
       "      <th>koi_model_snr</th>\n",
       "      <th>koi_duration_err2</th>\n",
       "      <th>koi_duration</th>\n",
       "      <th>koi_period</th>\n",
       "      <th>koi_time0bk_err2</th>\n",
       "    </tr>\n",
       "  </thead>\n",
       "  <tbody>\n",
       "    <tr>\n",
       "      <td>6122</td>\n",
       "      <td>0</td>\n",
       "      <td>0</td>\n",
       "      <td>0</td>\n",
       "      <td>0</td>\n",
       "      <td>0.3060</td>\n",
       "      <td>10.8</td>\n",
       "      <td>-0.3060</td>\n",
       "      <td>3.61600</td>\n",
       "      <td>6.768901</td>\n",
       "      <td>-0.008440</td>\n",
       "    </tr>\n",
       "    <tr>\n",
       "      <td>6370</td>\n",
       "      <td>1</td>\n",
       "      <td>0</td>\n",
       "      <td>0</td>\n",
       "      <td>1</td>\n",
       "      <td>0.2820</td>\n",
       "      <td>13.8</td>\n",
       "      <td>-0.2820</td>\n",
       "      <td>2.30900</td>\n",
       "      <td>0.733726</td>\n",
       "      <td>-0.007950</td>\n",
       "    </tr>\n",
       "    <tr>\n",
       "      <td>2879</td>\n",
       "      <td>0</td>\n",
       "      <td>1</td>\n",
       "      <td>0</td>\n",
       "      <td>0</td>\n",
       "      <td>0.0000</td>\n",
       "      <td>254.3</td>\n",
       "      <td>0.0000</td>\n",
       "      <td>79.89690</td>\n",
       "      <td>7.652707</td>\n",
       "      <td>-0.006190</td>\n",
       "    </tr>\n",
       "    <tr>\n",
       "      <td>107</td>\n",
       "      <td>0</td>\n",
       "      <td>0</td>\n",
       "      <td>0</td>\n",
       "      <td>0</td>\n",
       "      <td>0.0595</td>\n",
       "      <td>38.4</td>\n",
       "      <td>-0.0595</td>\n",
       "      <td>2.63120</td>\n",
       "      <td>7.953547</td>\n",
       "      <td>-0.001820</td>\n",
       "    </tr>\n",
       "    <tr>\n",
       "      <td>29</td>\n",
       "      <td>0</td>\n",
       "      <td>0</td>\n",
       "      <td>0</td>\n",
       "      <td>0</td>\n",
       "      <td>0.0075</td>\n",
       "      <td>696.5</td>\n",
       "      <td>-0.0075</td>\n",
       "      <td>2.22739</td>\n",
       "      <td>4.959319</td>\n",
       "      <td>-0.000083</td>\n",
       "    </tr>\n",
       "  </tbody>\n",
       "</table>\n",
       "</div>"
      ],
      "text/plain": [
       "      koi_fpflag_ss  koi_fpflag_nt  koi_fpflag_co  koi_fpflag_ec  \\\n",
       "6122              0              0              0              0   \n",
       "6370              1              0              0              1   \n",
       "2879              0              1              0              0   \n",
       "107               0              0              0              0   \n",
       "29                0              0              0              0   \n",
       "\n",
       "      koi_duration_err1  koi_model_snr  koi_duration_err2  koi_duration  \\\n",
       "6122             0.3060           10.8            -0.3060       3.61600   \n",
       "6370             0.2820           13.8            -0.2820       2.30900   \n",
       "2879             0.0000          254.3             0.0000      79.89690   \n",
       "107              0.0595           38.4            -0.0595       2.63120   \n",
       "29               0.0075          696.5            -0.0075       2.22739   \n",
       "\n",
       "      koi_period  koi_time0bk_err2  \n",
       "6122    6.768901         -0.008440  \n",
       "6370    0.733726         -0.007950  \n",
       "2879    7.652707         -0.006190  \n",
       "107     7.953547         -0.001820  \n",
       "29      4.959319         -0.000083  "
      ]
     },
     "execution_count": 72,
     "metadata": {},
     "output_type": "execute_result"
    }
   ],
   "source": [
    "from sklearn.model_selection import train_test_split\n",
    "\n",
    "# Split the data into smaller buckets for training and testing\n",
    "X_train, X_test, y_train, y_test = train_test_split(X, y, random_state=42)\n",
    "X_train.head()"
   ]
  },
  {
   "cell_type": "code",
   "execution_count": 73,
   "metadata": {},
   "outputs": [
    {
     "data": {
      "text/plain": [
       "((5243, 10), (5243,))"
      ]
     },
     "execution_count": 73,
     "metadata": {},
     "output_type": "execute_result"
    }
   ],
   "source": [
    "# X and y Train shape have 5243 rows (80% of data)\n",
    "X_train.shape, y_train.shape"
   ]
  },
  {
   "cell_type": "code",
   "execution_count": 74,
   "metadata": {},
   "outputs": [
    {
     "data": {
      "text/plain": [
       "((1748, 10), (1748,))"
      ]
     },
     "execution_count": 74,
     "metadata": {},
     "output_type": "execute_result"
    }
   ],
   "source": [
    "# X and y Test shape have 1748 rows (20% of data)\n",
    "X_test.shape, y_test.shape"
   ]
  },
  {
   "cell_type": "markdown",
   "metadata": {},
   "source": [
    "## Accuracy"
   ]
  },
  {
   "cell_type": "code",
   "execution_count": 75,
   "metadata": {},
   "outputs": [
    {
     "data": {
      "text/plain": [
       "0.7299771167048055"
      ]
     },
     "execution_count": 75,
     "metadata": {},
     "output_type": "execute_result"
    }
   ],
   "source": [
    "# Predicting the Test set results\n",
    "y_predic = model.predict(X_test)\n",
    "\n",
    "# Making the confusion Matrix\n",
    "from sklearn.metrics import confusion_matrix\n",
    "cm = confusion_matrix(y_test, y_predic)\n",
    "\n",
    "from sklearn.metrics import accuracy_score\n",
    "accuracy = accuracy_score(y_test, y_predic)\n",
    "\n",
    "accuracy"
   ]
  },
  {
   "cell_type": "markdown",
   "metadata": {},
   "source": [
    "# Pre-processing\n",
    "\n",
    "Scale the data using the MinMaxScaler\n",
    "\n",
    "MinMaxScaler: \n",
    "              * A way to normalize the input features/variables\n",
    "              * Features will be transformed into the range\n",
    "              * Scales the range of fetures from 0 to 1\n"
   ]
  },
  {
   "cell_type": "code",
   "execution_count": 76,
   "metadata": {},
   "outputs": [],
   "source": [
    "from sklearn.preprocessing import MinMaxScaler\n",
    "\n",
    "# Create a MinMaxScaler model and fit it to the training data\n",
    "X_scaler = MinMaxScaler().fit(X_train)\n",
    "\n",
    "#Transform the training and testing data using the X_scaler\n",
    "X_train_scaled = X_scaler.transform(X_train)\n",
    "X_test_scaled = X_scaler.transform(X_test)\n",
    "#print(np.matrix(X_test_scaled))"
   ]
  },
  {
   "cell_type": "markdown",
   "metadata": {},
   "source": [
    "# Train the Model \n",
    "* Used Logistic Regression Model\n",
    "\n"
   ]
  },
  {
   "cell_type": "code",
   "execution_count": 77,
   "metadata": {
    "scrolled": true
   },
   "outputs": [
    {
     "name": "stdout",
     "output_type": "stream",
     "text": [
      "Training Data Score: 0.8088880411977876\n",
      "Testing Data Score: 0.8106407322654462\n"
     ]
    }
   ],
   "source": [
    "from sklearn.linear_model import LogisticRegression\n",
    "\n",
    "# Create a Logistic Regression Model\n",
    "model = LogisticRegression()\n",
    "\n",
    "# Train (Fit) the model to the data\n",
    "model.fit(X_train_scaled, y_train)\n",
    "\n",
    "# Validate the model using the test data\n",
    "print(f\"Training Data Score: {model.score(X_train_scaled, y_train)}\")\n",
    "print(f\"Testing Data Score: {model.score(X_test_scaled, y_test)}\")\n",
    "\n",
    "# Printed the r2 score for the test data, testing is lower than training which is good we are not over feeding"
   ]
  },
  {
   "cell_type": "markdown",
   "metadata": {},
   "source": [
    "## Prediction"
   ]
  },
  {
   "cell_type": "code",
   "execution_count": 78,
   "metadata": {},
   "outputs": [
    {
     "name": "stdout",
     "output_type": "stream",
     "text": [
      "first 10 Predictions['FALSE POSITIVE', 'CANDIDATE', 'FALSE POSITIVE', 'FALSE POSITIVE', 'FALSE POSITIVE', 'CONFIRMED', 'CONFIRMED', 'CANDIDATE', 'CANDIDATE', 'FALSE POSITIVE']\n",
      "first 10 Actual['FALSE POSITIVE', 'CANDIDATE', 'FALSE POSITIVE', 'FALSE POSITIVE', 'FALSE POSITIVE', 'CONFIRMED', 'CANDIDATE', 'CANDIDATE', 'CANDIDATE', 'FALSE POSITIVE']\n"
     ]
    }
   ],
   "source": [
    "predictions = model.predict(X_test_scaled)\n",
    "\n",
    "print(f\"first 10 Predictions{predictions[:10].tolist()}\")\n",
    "print(f\"first 10 Actual{y_test[:10].tolist()}\")\n",
    "\n",
    "#Printing into a Dataframe (y_test can't be reshap on top)\n",
    "# df_pred = pd.DataFrame({\"Actual\":y_test, \"Predicted\":predictions}) \n",
    "# df_pred.head()"
   ]
  },
  {
   "cell_type": "markdown",
   "metadata": {},
   "source": [
    "# Hyperparameter Tuning\n",
    "\n",
    "Use `GridSearchCV` to tune the model's parameters"
   ]
  },
  {
   "cell_type": "code",
   "execution_count": 79,
   "metadata": {},
   "outputs": [
    {
     "data": {
      "text/plain": [
       "0.7299771167048055"
      ]
     },
     "execution_count": 79,
     "metadata": {},
     "output_type": "execute_result"
    }
   ],
   "source": [
    "from sklearn.svm import SVC\n",
    "\n",
    "# Create the GridSearchCV model\n",
    "model = SVC(kernel='linear')\n",
    "model.fit(X_train_scaled, y_train)\n",
    "\n",
    "# Predicting the Test set results\n",
    "y_predic = model.predict(X_test)\n",
    "\n",
    "# Making the confusion Matrix\n",
    "from sklearn.metrics import confusion_matrix\n",
    "cm = confusion_matrix(y_test, y_predic)\n",
    "\n",
    "from sklearn.metrics import accuracy_score\n",
    "accuracy = accuracy_score(y_test, y_predic)\n",
    "\n",
    "accuracy"
   ]
  },
  {
   "cell_type": "code",
   "execution_count": 80,
   "metadata": {},
   "outputs": [],
   "source": [
    "from sklearn.model_selection import GridSearchCV\n",
    "\n",
    "param_grid = {'C': [1, 5, 10, 20, 50],\n",
    "              'gamma': [0.0001,0.001, 0.01, 0.0005, 0.005]}\n",
    "\n",
    "grid = GridSearchCV(model, param_grid, verbose=3)\n"
   ]
  },
  {
   "cell_type": "code",
   "execution_count": 81,
   "metadata": {},
   "outputs": [
    {
     "name": "stdout",
     "output_type": "stream",
     "text": [
      "Fitting 3 folds for each of 25 candidates, totalling 75 fits\n",
      "[CV] C=1, gamma=0.0001 ...............................................\n",
      "[CV] ................... C=1, gamma=0.0001, score=0.790, total=   0.1s\n",
      "[CV] C=1, gamma=0.0001 ...............................................\n",
      "[CV] ................... C=1, gamma=0.0001, score=0.783, total=   0.1s\n",
      "[CV] C=1, gamma=0.0001 ...............................................\n"
     ]
    },
    {
     "name": "stderr",
     "output_type": "stream",
     "text": [
      "[Parallel(n_jobs=1)]: Using backend SequentialBackend with 1 concurrent workers.\n",
      "[Parallel(n_jobs=1)]: Done   1 out of   1 | elapsed:    0.0s remaining:    0.0s\n",
      "[Parallel(n_jobs=1)]: Done   2 out of   2 | elapsed:    0.1s remaining:    0.0s\n"
     ]
    },
    {
     "name": "stdout",
     "output_type": "stream",
     "text": [
      "[CV] ................... C=1, gamma=0.0001, score=0.791, total=   0.1s\n",
      "[CV] C=1, gamma=0.001 ................................................\n",
      "[CV] .................... C=1, gamma=0.001, score=0.790, total=   0.1s\n",
      "[CV] C=1, gamma=0.001 ................................................\n",
      "[CV] .................... C=1, gamma=0.001, score=0.783, total=   0.1s\n",
      "[CV] C=1, gamma=0.001 ................................................\n",
      "[CV] .................... C=1, gamma=0.001, score=0.791, total=   0.1s\n",
      "[CV] C=1, gamma=0.01 .................................................\n",
      "[CV] ..................... C=1, gamma=0.01, score=0.790, total=   0.1s\n",
      "[CV] C=1, gamma=0.01 .................................................\n",
      "[CV] ..................... C=1, gamma=0.01, score=0.783, total=   0.1s\n",
      "[CV] C=1, gamma=0.01 .................................................\n",
      "[CV] ..................... C=1, gamma=0.01, score=0.791, total=   0.1s\n",
      "[CV] C=1, gamma=0.0005 ...............................................\n",
      "[CV] ................... C=1, gamma=0.0005, score=0.790, total=   0.1s\n",
      "[CV] C=1, gamma=0.0005 ...............................................\n",
      "[CV] ................... C=1, gamma=0.0005, score=0.783, total=   0.1s\n",
      "[CV] C=1, gamma=0.0005 ...............................................\n",
      "[CV] ................... C=1, gamma=0.0005, score=0.791, total=   0.1s\n",
      "[CV] C=1, gamma=0.005 ................................................\n",
      "[CV] .................... C=1, gamma=0.005, score=0.790, total=   0.1s\n",
      "[CV] C=1, gamma=0.005 ................................................\n",
      "[CV] .................... C=1, gamma=0.005, score=0.783, total=   0.1s\n",
      "[CV] C=1, gamma=0.005 ................................................\n",
      "[CV] .................... C=1, gamma=0.005, score=0.791, total=   0.1s\n",
      "[CV] C=5, gamma=0.0001 ...............................................\n",
      "[CV] ................... C=5, gamma=0.0001, score=0.830, total=   0.1s\n",
      "[CV] C=5, gamma=0.0001 ...............................................\n",
      "[CV] ................... C=5, gamma=0.0001, score=0.824, total=   0.1s\n",
      "[CV] C=5, gamma=0.0001 ...............................................\n",
      "[CV] ................... C=5, gamma=0.0001, score=0.825, total=   0.1s\n",
      "[CV] C=5, gamma=0.001 ................................................\n",
      "[CV] .................... C=5, gamma=0.001, score=0.830, total=   0.1s\n",
      "[CV] C=5, gamma=0.001 ................................................\n",
      "[CV] .................... C=5, gamma=0.001, score=0.824, total=   0.1s\n",
      "[CV] C=5, gamma=0.001 ................................................\n",
      "[CV] .................... C=5, gamma=0.001, score=0.825, total=   0.1s\n",
      "[CV] C=5, gamma=0.01 .................................................\n",
      "[CV] ..................... C=5, gamma=0.01, score=0.830, total=   0.1s\n",
      "[CV] C=5, gamma=0.01 .................................................\n",
      "[CV] ..................... C=5, gamma=0.01, score=0.824, total=   0.1s\n",
      "[CV] C=5, gamma=0.01 .................................................\n",
      "[CV] ..................... C=5, gamma=0.01, score=0.825, total=   0.1s\n",
      "[CV] C=5, gamma=0.0005 ...............................................\n",
      "[CV] ................... C=5, gamma=0.0005, score=0.830, total=   0.1s\n",
      "[CV] C=5, gamma=0.0005 ...............................................\n",
      "[CV] ................... C=5, gamma=0.0005, score=0.824, total=   0.1s\n",
      "[CV] C=5, gamma=0.0005 ...............................................\n",
      "[CV] ................... C=5, gamma=0.0005, score=0.825, total=   0.1s\n",
      "[CV] C=5, gamma=0.005 ................................................\n",
      "[CV] .................... C=5, gamma=0.005, score=0.830, total=   0.1s\n",
      "[CV] C=5, gamma=0.005 ................................................\n",
      "[CV] .................... C=5, gamma=0.005, score=0.824, total=   0.1s\n",
      "[CV] C=5, gamma=0.005 ................................................\n",
      "[CV] .................... C=5, gamma=0.005, score=0.825, total=   0.1s\n",
      "[CV] C=10, gamma=0.0001 ..............................................\n",
      "[CV] .................. C=10, gamma=0.0001, score=0.846, total=   0.1s\n",
      "[CV] C=10, gamma=0.0001 ..............................................\n",
      "[CV] .................. C=10, gamma=0.0001, score=0.844, total=   0.1s\n",
      "[CV] C=10, gamma=0.0001 ..............................................\n",
      "[CV] .................. C=10, gamma=0.0001, score=0.832, total=   0.1s\n",
      "[CV] C=10, gamma=0.001 ...............................................\n",
      "[CV] ................... C=10, gamma=0.001, score=0.846, total=   0.1s\n",
      "[CV] C=10, gamma=0.001 ...............................................\n",
      "[CV] ................... C=10, gamma=0.001, score=0.844, total=   0.1s\n",
      "[CV] C=10, gamma=0.001 ...............................................\n",
      "[CV] ................... C=10, gamma=0.001, score=0.832, total=   0.1s\n",
      "[CV] C=10, gamma=0.01 ................................................\n",
      "[CV] .................... C=10, gamma=0.01, score=0.846, total=   0.1s\n",
      "[CV] C=10, gamma=0.01 ................................................\n",
      "[CV] .................... C=10, gamma=0.01, score=0.844, total=   0.1s\n",
      "[CV] C=10, gamma=0.01 ................................................\n",
      "[CV] .................... C=10, gamma=0.01, score=0.832, total=   0.1s\n",
      "[CV] C=10, gamma=0.0005 ..............................................\n",
      "[CV] .................. C=10, gamma=0.0005, score=0.846, total=   0.1s\n",
      "[CV] C=10, gamma=0.0005 ..............................................\n",
      "[CV] .................. C=10, gamma=0.0005, score=0.844, total=   0.1s\n",
      "[CV] C=10, gamma=0.0005 ..............................................\n",
      "[CV] .................. C=10, gamma=0.0005, score=0.832, total=   0.1s\n",
      "[CV] C=10, gamma=0.005 ...............................................\n",
      "[CV] ................... C=10, gamma=0.005, score=0.846, total=   0.1s\n",
      "[CV] C=10, gamma=0.005 ...............................................\n",
      "[CV] ................... C=10, gamma=0.005, score=0.844, total=   0.1s\n",
      "[CV] C=10, gamma=0.005 ...............................................\n",
      "[CV] ................... C=10, gamma=0.005, score=0.832, total=   0.1s\n",
      "[CV] C=20, gamma=0.0001 ..............................................\n",
      "[CV] .................. C=20, gamma=0.0001, score=0.867, total=   0.1s\n",
      "[CV] C=20, gamma=0.0001 ..............................................\n",
      "[CV] .................. C=20, gamma=0.0001, score=0.860, total=   0.1s\n",
      "[CV] C=20, gamma=0.0001 ..............................................\n",
      "[CV] .................. C=20, gamma=0.0001, score=0.850, total=   0.1s\n",
      "[CV] C=20, gamma=0.001 ...............................................\n",
      "[CV] ................... C=20, gamma=0.001, score=0.867, total=   0.1s\n",
      "[CV] C=20, gamma=0.001 ...............................................\n",
      "[CV] ................... C=20, gamma=0.001, score=0.860, total=   0.1s\n",
      "[CV] C=20, gamma=0.001 ...............................................\n",
      "[CV] ................... C=20, gamma=0.001, score=0.850, total=   0.1s\n",
      "[CV] C=20, gamma=0.01 ................................................\n",
      "[CV] .................... C=20, gamma=0.01, score=0.867, total=   0.1s\n",
      "[CV] C=20, gamma=0.01 ................................................\n",
      "[CV] .................... C=20, gamma=0.01, score=0.860, total=   0.1s\n",
      "[CV] C=20, gamma=0.01 ................................................\n",
      "[CV] .................... C=20, gamma=0.01, score=0.850, total=   0.1s\n",
      "[CV] C=20, gamma=0.0005 ..............................................\n",
      "[CV] .................. C=20, gamma=0.0005, score=0.867, total=   0.1s\n",
      "[CV] C=20, gamma=0.0005 ..............................................\n",
      "[CV] .................. C=20, gamma=0.0005, score=0.860, total=   0.1s\n",
      "[CV] C=20, gamma=0.0005 ..............................................\n",
      "[CV] .................. C=20, gamma=0.0005, score=0.850, total=   0.1s\n",
      "[CV] C=20, gamma=0.005 ...............................................\n",
      "[CV] ................... C=20, gamma=0.005, score=0.867, total=   0.1s\n",
      "[CV] C=20, gamma=0.005 ...............................................\n",
      "[CV] ................... C=20, gamma=0.005, score=0.860, total=   0.1s\n",
      "[CV] C=20, gamma=0.005 ...............................................\n",
      "[CV] ................... C=20, gamma=0.005, score=0.850, total=   0.1s\n",
      "[CV] C=50, gamma=0.0001 ..............................................\n"
     ]
    },
    {
     "name": "stdout",
     "output_type": "stream",
     "text": [
      "[CV] .................. C=50, gamma=0.0001, score=0.877, total=   0.1s\n",
      "[CV] C=50, gamma=0.0001 ..............................................\n",
      "[CV] .................. C=50, gamma=0.0001, score=0.872, total=   0.1s\n",
      "[CV] C=50, gamma=0.0001 ..............................................\n",
      "[CV] .................. C=50, gamma=0.0001, score=0.858, total=   0.1s\n",
      "[CV] C=50, gamma=0.001 ...............................................\n",
      "[CV] ................... C=50, gamma=0.001, score=0.877, total=   0.1s\n",
      "[CV] C=50, gamma=0.001 ...............................................\n",
      "[CV] ................... C=50, gamma=0.001, score=0.872, total=   0.1s\n",
      "[CV] C=50, gamma=0.001 ...............................................\n",
      "[CV] ................... C=50, gamma=0.001, score=0.858, total=   0.1s\n",
      "[CV] C=50, gamma=0.01 ................................................\n",
      "[CV] .................... C=50, gamma=0.01, score=0.877, total=   0.1s\n",
      "[CV] C=50, gamma=0.01 ................................................\n",
      "[CV] .................... C=50, gamma=0.01, score=0.872, total=   0.1s\n",
      "[CV] C=50, gamma=0.01 ................................................\n",
      "[CV] .................... C=50, gamma=0.01, score=0.858, total=   0.1s\n",
      "[CV] C=50, gamma=0.0005 ..............................................\n",
      "[CV] .................. C=50, gamma=0.0005, score=0.877, total=   0.1s\n",
      "[CV] C=50, gamma=0.0005 ..............................................\n",
      "[CV] .................. C=50, gamma=0.0005, score=0.872, total=   0.1s\n",
      "[CV] C=50, gamma=0.0005 ..............................................\n",
      "[CV] .................. C=50, gamma=0.0005, score=0.858, total=   0.1s\n",
      "[CV] C=50, gamma=0.005 ...............................................\n",
      "[CV] ................... C=50, gamma=0.005, score=0.877, total=   0.1s\n",
      "[CV] C=50, gamma=0.005 ...............................................\n",
      "[CV] ................... C=50, gamma=0.005, score=0.872, total=   0.1s\n",
      "[CV] C=50, gamma=0.005 ...............................................\n",
      "[CV] ................... C=50, gamma=0.005, score=0.858, total=   0.1s\n"
     ]
    },
    {
     "name": "stderr",
     "output_type": "stream",
     "text": [
      "[Parallel(n_jobs=1)]: Done  75 out of  75 | elapsed:    6.1s finished\n"
     ]
    },
    {
     "data": {
      "text/plain": [
       "GridSearchCV(cv='warn', error_score='raise-deprecating',\n",
       "             estimator=SVC(C=1.0, cache_size=200, class_weight=None, coef0=0.0,\n",
       "                           decision_function_shape='ovr', degree=3,\n",
       "                           gamma='auto_deprecated', kernel='linear',\n",
       "                           max_iter=-1, probability=False, random_state=None,\n",
       "                           shrinking=True, tol=0.001, verbose=False),\n",
       "             iid='warn', n_jobs=None,\n",
       "             param_grid={'C': [1, 5, 10, 20, 50],\n",
       "                         'gamma': [0.0001, 0.001, 0.01, 0.0005, 0.005]},\n",
       "             pre_dispatch='2*n_jobs', refit=True, return_train_score=False,\n",
       "             scoring=None, verbose=3)"
      ]
     },
     "execution_count": 81,
     "metadata": {},
     "output_type": "execute_result"
    }
   ],
   "source": [
    "# Train the model with GridSearch\n",
    "\n",
    "grid.fit(X_train_scaled, y_train)"
   ]
  },
  {
   "cell_type": "code",
   "execution_count": 82,
   "metadata": {},
   "outputs": [
    {
     "name": "stdout",
     "output_type": "stream",
     "text": [
      "{'C': 50, 'gamma': 0.0001}\n",
      "Best Score:  0.8689681480068663\n"
     ]
    }
   ],
   "source": [
    "# List the best parameters for this dataset\n",
    "print(grid.best_params_)\n",
    "\n",
    "# List the best score\n",
    "print('Best Score: ', grid.best_score_)"
   ]
  },
  {
   "cell_type": "code",
   "execution_count": 83,
   "metadata": {},
   "outputs": [
    {
     "data": {
      "text/plain": [
       "0.8667048054919908"
      ]
     },
     "execution_count": 83,
     "metadata": {},
     "output_type": "execute_result"
    }
   ],
   "source": [
    "# Score the model\n",
    "grid.score(X_test_scaled, y_test)"
   ]
  },
  {
   "cell_type": "code",
   "execution_count": 84,
   "metadata": {},
   "outputs": [
    {
     "data": {
      "text/html": [
       "<div>\n",
       "<style scoped>\n",
       "    .dataframe tbody tr th:only-of-type {\n",
       "        vertical-align: middle;\n",
       "    }\n",
       "\n",
       "    .dataframe tbody tr th {\n",
       "        vertical-align: top;\n",
       "    }\n",
       "\n",
       "    .dataframe thead th {\n",
       "        text-align: right;\n",
       "    }\n",
       "</style>\n",
       "<table border=\"1\" class=\"dataframe\">\n",
       "  <thead>\n",
       "    <tr style=\"text-align: right;\">\n",
       "      <th></th>\n",
       "      <th>Actual</th>\n",
       "      <th>Predicted</th>\n",
       "    </tr>\n",
       "  </thead>\n",
       "  <tbody>\n",
       "    <tr>\n",
       "      <td>4982</td>\n",
       "      <td>FALSE POSITIVE</td>\n",
       "      <td>FALSE POSITIVE</td>\n",
       "    </tr>\n",
       "    <tr>\n",
       "      <td>4866</td>\n",
       "      <td>CANDIDATE</td>\n",
       "      <td>CANDIDATE</td>\n",
       "    </tr>\n",
       "    <tr>\n",
       "      <td>2934</td>\n",
       "      <td>FALSE POSITIVE</td>\n",
       "      <td>FALSE POSITIVE</td>\n",
       "    </tr>\n",
       "    <tr>\n",
       "      <td>5007</td>\n",
       "      <td>FALSE POSITIVE</td>\n",
       "      <td>FALSE POSITIVE</td>\n",
       "    </tr>\n",
       "    <tr>\n",
       "      <td>3869</td>\n",
       "      <td>FALSE POSITIVE</td>\n",
       "      <td>FALSE POSITIVE</td>\n",
       "    </tr>\n",
       "  </tbody>\n",
       "</table>\n",
       "</div>"
      ],
      "text/plain": [
       "              Actual       Predicted\n",
       "4982  FALSE POSITIVE  FALSE POSITIVE\n",
       "4866       CANDIDATE       CANDIDATE\n",
       "2934  FALSE POSITIVE  FALSE POSITIVE\n",
       "5007  FALSE POSITIVE  FALSE POSITIVE\n",
       "3869  FALSE POSITIVE  FALSE POSITIVE"
      ]
     },
     "execution_count": 84,
     "metadata": {},
     "output_type": "execute_result"
    }
   ],
   "source": [
    "# Make predictions with the hypertuned model\n",
    "predictions = grid.predict(X_test_scaled)\n",
    "df_grid = pd.DataFrame({\"Actual\":y_test, \"Predicted\":predictions}) \n",
    "df_grid.head()"
   ]
  },
  {
   "cell_type": "code",
   "execution_count": 85,
   "metadata": {},
   "outputs": [
    {
     "name": "stdout",
     "output_type": "stream",
     "text": [
      "                precision    recall  f1-score   support\n",
      "\n",
      "     CONFIRMED       0.83      0.58      0.68       411\n",
      "FALSE POSITIVE       0.72      0.88      0.79       484\n",
      "     CANDIDATE       0.98      1.00      0.99       853\n",
      "\n",
      "      accuracy                           0.87      1748\n",
      "     macro avg       0.84      0.82      0.82      1748\n",
      "  weighted avg       0.87      0.87      0.86      1748\n",
      "\n"
     ]
    }
   ],
   "source": [
    "# Calculate classification report\n",
    "# print(np.array(y_test))\n",
    "\n",
    "from sklearn.metrics import classification_report\n",
    "print(classification_report(y_test, predictions,\n",
    "                            target_names=target_names))"
   ]
  },
  {
   "cell_type": "markdown",
   "metadata": {},
   "source": [
    "# Save the Model"
   ]
  },
  {
   "cell_type": "code",
   "execution_count": 86,
   "metadata": {},
   "outputs": [
    {
     "data": {
      "text/plain": [
       "['LogisticRegression.sav']"
      ]
     },
     "execution_count": 86,
     "metadata": {},
     "output_type": "execute_result"
    }
   ],
   "source": [
    "import joblib\n",
    "filename = 'LogisticRegression.sav'\n",
    "joblib.dump(LogisticRegression, filename)"
   ]
  },
  {
   "cell_type": "code",
   "execution_count": null,
   "metadata": {},
   "outputs": [],
   "source": []
  }
 ],
 "metadata": {
  "kernel_info": {
   "name": "dev"
  },
  "kernelspec": {
   "display_name": "Python 3",
   "language": "python",
   "name": "python3"
  },
  "language_info": {
   "codemirror_mode": {
    "name": "ipython",
    "version": 3
   },
   "file_extension": ".py",
   "mimetype": "text/x-python",
   "name": "python",
   "nbconvert_exporter": "python",
   "pygments_lexer": "ipython3",
   "version": "3.7.4"
  },
  "nteract": {
   "version": "0.12.3"
  }
 },
 "nbformat": 4,
 "nbformat_minor": 2
}
