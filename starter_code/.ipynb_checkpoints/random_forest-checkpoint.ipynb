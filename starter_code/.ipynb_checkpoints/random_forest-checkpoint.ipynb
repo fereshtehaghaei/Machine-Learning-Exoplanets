{
 "cells": [
  {
   "cell_type": "markdown",
   "metadata": {},
   "source": [
    "## Machine Learning- Exoplanet Exploration"
   ]
  },
  {
   "cell_type": "markdown",
   "metadata": {},
   "source": [
    "#### Extensive Data Dictionary: https://exoplanetarchive.ipac.caltech.edu/docs/API_kepcandidate_columns.html\n",
    "\n",
    "Highlightable columns of note are:\n",
    "\n",
    "* kepoi_name: A KOI is a target identified by the Kepler Project that displays at least one transit-like sequence within Kepler time-series photometry that appears to be of astrophysical origin and initially consistent with a planetary transit hypothesis\n",
    "\n",
    "* kepler_name: [These names] are intended to clearly indicate a class of objects that have been confirmed or validated as planets—a step up from the planet candidate designation.\n",
    "\n",
    "* koi_disposition: The disposition in the literature towards this exoplanet candidate. One of CANDIDATE, FALSE POSITIVE, NOT DISPOSITIONED or CONFIRMED.\n",
    "\n",
    "* koi_pdisposition: The disposition Kepler data analysis has towards this exoplanet candidate. One of FALSE POSITIVE, NOT DISPOSITIONED, and CANDIDATE.\n",
    "\n",
    "* koi_score: A value between 0 and 1 that indicates the confidence in the KOI disposition. For CANDIDATEs, a higher value indicates more confidence in its disposition, while for FALSE POSITIVEs, a higher value indicates less confidence in that disposition.\n"
   ]
  },
  {
   "cell_type": "code",
   "execution_count": 1,
   "metadata": {},
   "outputs": [],
   "source": [
    "# # Update sklearn to prevent version mismatches\n",
    "# !pip install sklearn --upgrade\n",
    "# # install joblib\n",
    "# !pip install joblib"
   ]
  },
  {
   "cell_type": "markdown",
   "metadata": {},
   "source": [
    "### Import Dependencies "
   ]
  },
  {
   "cell_type": "code",
   "execution_count": 2,
   "metadata": {},
   "outputs": [],
   "source": [
    "%matplotlib inline\n",
    "import matplotlib.pyplot as plt\n",
    "import numpy as np\n",
    "import pandas as pd\n",
    "\n",
    "# Hide warning messages in notebook\n",
    "import warnings\n",
    "warnings.filterwarnings('ignore')"
   ]
  },
  {
   "cell_type": "markdown",
   "metadata": {},
   "source": [
    "# Read the CSV and Perform Basic Data Cleaning"
   ]
  },
  {
   "cell_type": "code",
   "execution_count": 3,
   "metadata": {},
   "outputs": [
    {
     "data": {
      "text/html": [
       "<div>\n",
       "<style scoped>\n",
       "    .dataframe tbody tr th:only-of-type {\n",
       "        vertical-align: middle;\n",
       "    }\n",
       "\n",
       "    .dataframe tbody tr th {\n",
       "        vertical-align: top;\n",
       "    }\n",
       "\n",
       "    .dataframe thead th {\n",
       "        text-align: right;\n",
       "    }\n",
       "</style>\n",
       "<table border=\"1\" class=\"dataframe\">\n",
       "  <thead>\n",
       "    <tr style=\"text-align: right;\">\n",
       "      <th></th>\n",
       "      <th>koi_disposition</th>\n",
       "      <th>koi_fpflag_nt</th>\n",
       "      <th>koi_fpflag_ss</th>\n",
       "      <th>koi_fpflag_co</th>\n",
       "      <th>koi_fpflag_ec</th>\n",
       "      <th>koi_period</th>\n",
       "      <th>koi_period_err1</th>\n",
       "      <th>koi_period_err2</th>\n",
       "      <th>koi_time0bk</th>\n",
       "      <th>koi_time0bk_err1</th>\n",
       "      <th>...</th>\n",
       "      <th>koi_steff_err2</th>\n",
       "      <th>koi_slogg</th>\n",
       "      <th>koi_slogg_err1</th>\n",
       "      <th>koi_slogg_err2</th>\n",
       "      <th>koi_srad</th>\n",
       "      <th>koi_srad_err1</th>\n",
       "      <th>koi_srad_err2</th>\n",
       "      <th>ra</th>\n",
       "      <th>dec</th>\n",
       "      <th>koi_kepmag</th>\n",
       "    </tr>\n",
       "  </thead>\n",
       "  <tbody>\n",
       "    <tr>\n",
       "      <td>0</td>\n",
       "      <td>CONFIRMED</td>\n",
       "      <td>0</td>\n",
       "      <td>0</td>\n",
       "      <td>0</td>\n",
       "      <td>0</td>\n",
       "      <td>54.418383</td>\n",
       "      <td>2.479000e-04</td>\n",
       "      <td>-2.479000e-04</td>\n",
       "      <td>162.513840</td>\n",
       "      <td>0.003520</td>\n",
       "      <td>...</td>\n",
       "      <td>-81</td>\n",
       "      <td>4.467</td>\n",
       "      <td>0.064</td>\n",
       "      <td>-0.096</td>\n",
       "      <td>0.927</td>\n",
       "      <td>0.105</td>\n",
       "      <td>-0.061</td>\n",
       "      <td>291.93423</td>\n",
       "      <td>48.141651</td>\n",
       "      <td>15.347</td>\n",
       "    </tr>\n",
       "    <tr>\n",
       "      <td>1</td>\n",
       "      <td>FALSE POSITIVE</td>\n",
       "      <td>0</td>\n",
       "      <td>1</td>\n",
       "      <td>0</td>\n",
       "      <td>0</td>\n",
       "      <td>19.899140</td>\n",
       "      <td>1.490000e-05</td>\n",
       "      <td>-1.490000e-05</td>\n",
       "      <td>175.850252</td>\n",
       "      <td>0.000581</td>\n",
       "      <td>...</td>\n",
       "      <td>-176</td>\n",
       "      <td>4.544</td>\n",
       "      <td>0.044</td>\n",
       "      <td>-0.176</td>\n",
       "      <td>0.868</td>\n",
       "      <td>0.233</td>\n",
       "      <td>-0.078</td>\n",
       "      <td>297.00482</td>\n",
       "      <td>48.134129</td>\n",
       "      <td>15.436</td>\n",
       "    </tr>\n",
       "    <tr>\n",
       "      <td>2</td>\n",
       "      <td>FALSE POSITIVE</td>\n",
       "      <td>0</td>\n",
       "      <td>1</td>\n",
       "      <td>0</td>\n",
       "      <td>0</td>\n",
       "      <td>1.736952</td>\n",
       "      <td>2.630000e-07</td>\n",
       "      <td>-2.630000e-07</td>\n",
       "      <td>170.307565</td>\n",
       "      <td>0.000115</td>\n",
       "      <td>...</td>\n",
       "      <td>-174</td>\n",
       "      <td>4.564</td>\n",
       "      <td>0.053</td>\n",
       "      <td>-0.168</td>\n",
       "      <td>0.791</td>\n",
       "      <td>0.201</td>\n",
       "      <td>-0.067</td>\n",
       "      <td>285.53461</td>\n",
       "      <td>48.285210</td>\n",
       "      <td>15.597</td>\n",
       "    </tr>\n",
       "    <tr>\n",
       "      <td>3</td>\n",
       "      <td>CONFIRMED</td>\n",
       "      <td>0</td>\n",
       "      <td>0</td>\n",
       "      <td>0</td>\n",
       "      <td>0</td>\n",
       "      <td>2.525592</td>\n",
       "      <td>3.760000e-06</td>\n",
       "      <td>-3.760000e-06</td>\n",
       "      <td>171.595550</td>\n",
       "      <td>0.001130</td>\n",
       "      <td>...</td>\n",
       "      <td>-211</td>\n",
       "      <td>4.438</td>\n",
       "      <td>0.070</td>\n",
       "      <td>-0.210</td>\n",
       "      <td>1.046</td>\n",
       "      <td>0.334</td>\n",
       "      <td>-0.133</td>\n",
       "      <td>288.75488</td>\n",
       "      <td>48.226200</td>\n",
       "      <td>15.509</td>\n",
       "    </tr>\n",
       "    <tr>\n",
       "      <td>4</td>\n",
       "      <td>CONFIRMED</td>\n",
       "      <td>0</td>\n",
       "      <td>0</td>\n",
       "      <td>0</td>\n",
       "      <td>0</td>\n",
       "      <td>4.134435</td>\n",
       "      <td>1.050000e-05</td>\n",
       "      <td>-1.050000e-05</td>\n",
       "      <td>172.979370</td>\n",
       "      <td>0.001900</td>\n",
       "      <td>...</td>\n",
       "      <td>-232</td>\n",
       "      <td>4.486</td>\n",
       "      <td>0.054</td>\n",
       "      <td>-0.229</td>\n",
       "      <td>0.972</td>\n",
       "      <td>0.315</td>\n",
       "      <td>-0.105</td>\n",
       "      <td>296.28613</td>\n",
       "      <td>48.224670</td>\n",
       "      <td>15.714</td>\n",
       "    </tr>\n",
       "  </tbody>\n",
       "</table>\n",
       "<p>5 rows × 41 columns</p>\n",
       "</div>"
      ],
      "text/plain": [
       "  koi_disposition  koi_fpflag_nt  koi_fpflag_ss  koi_fpflag_co  koi_fpflag_ec  \\\n",
       "0       CONFIRMED              0              0              0              0   \n",
       "1  FALSE POSITIVE              0              1              0              0   \n",
       "2  FALSE POSITIVE              0              1              0              0   \n",
       "3       CONFIRMED              0              0              0              0   \n",
       "4       CONFIRMED              0              0              0              0   \n",
       "\n",
       "   koi_period  koi_period_err1  koi_period_err2  koi_time0bk  \\\n",
       "0   54.418383     2.479000e-04    -2.479000e-04   162.513840   \n",
       "1   19.899140     1.490000e-05    -1.490000e-05   175.850252   \n",
       "2    1.736952     2.630000e-07    -2.630000e-07   170.307565   \n",
       "3    2.525592     3.760000e-06    -3.760000e-06   171.595550   \n",
       "4    4.134435     1.050000e-05    -1.050000e-05   172.979370   \n",
       "\n",
       "   koi_time0bk_err1  ...  koi_steff_err2  koi_slogg  koi_slogg_err1  \\\n",
       "0          0.003520  ...             -81      4.467           0.064   \n",
       "1          0.000581  ...            -176      4.544           0.044   \n",
       "2          0.000115  ...            -174      4.564           0.053   \n",
       "3          0.001130  ...            -211      4.438           0.070   \n",
       "4          0.001900  ...            -232      4.486           0.054   \n",
       "\n",
       "   koi_slogg_err2  koi_srad  koi_srad_err1  koi_srad_err2         ra  \\\n",
       "0          -0.096     0.927          0.105         -0.061  291.93423   \n",
       "1          -0.176     0.868          0.233         -0.078  297.00482   \n",
       "2          -0.168     0.791          0.201         -0.067  285.53461   \n",
       "3          -0.210     1.046          0.334         -0.133  288.75488   \n",
       "4          -0.229     0.972          0.315         -0.105  296.28613   \n",
       "\n",
       "         dec  koi_kepmag  \n",
       "0  48.141651      15.347  \n",
       "1  48.134129      15.436  \n",
       "2  48.285210      15.597  \n",
       "3  48.226200      15.509  \n",
       "4  48.224670      15.714  \n",
       "\n",
       "[5 rows x 41 columns]"
      ]
     },
     "execution_count": 3,
     "metadata": {},
     "output_type": "execute_result"
    }
   ],
   "source": [
    "# Read/Load CSV file\n",
    "df = pd.read_csv(\"exoplanet_data.csv\")\n",
    "\n",
    "# Drop the null columns where all values are null\n",
    "df = df.dropna(axis='columns', how='all')\n",
    "\n",
    "# Drop the null rows\n",
    "df = df.dropna()\n",
    "df.head()"
   ]
  },
  {
   "cell_type": "markdown",
   "metadata": {},
   "source": [
    "## Basic Statistic Details"
   ]
  },
  {
   "cell_type": "code",
   "execution_count": 4,
   "metadata": {},
   "outputs": [
    {
     "data": {
      "text/html": [
       "<div>\n",
       "<style scoped>\n",
       "    .dataframe tbody tr th:only-of-type {\n",
       "        vertical-align: middle;\n",
       "    }\n",
       "\n",
       "    .dataframe tbody tr th {\n",
       "        vertical-align: top;\n",
       "    }\n",
       "\n",
       "    .dataframe thead th {\n",
       "        text-align: right;\n",
       "    }\n",
       "</style>\n",
       "<table border=\"1\" class=\"dataframe\">\n",
       "  <thead>\n",
       "    <tr style=\"text-align: right;\">\n",
       "      <th></th>\n",
       "      <th>koi_fpflag_nt</th>\n",
       "      <th>koi_fpflag_ss</th>\n",
       "      <th>koi_fpflag_co</th>\n",
       "      <th>koi_fpflag_ec</th>\n",
       "      <th>koi_period</th>\n",
       "      <th>koi_period_err1</th>\n",
       "      <th>koi_period_err2</th>\n",
       "      <th>koi_time0bk</th>\n",
       "      <th>koi_time0bk_err1</th>\n",
       "      <th>koi_time0bk_err2</th>\n",
       "      <th>...</th>\n",
       "      <th>koi_steff_err2</th>\n",
       "      <th>koi_slogg</th>\n",
       "      <th>koi_slogg_err1</th>\n",
       "      <th>koi_slogg_err2</th>\n",
       "      <th>koi_srad</th>\n",
       "      <th>koi_srad_err1</th>\n",
       "      <th>koi_srad_err2</th>\n",
       "      <th>ra</th>\n",
       "      <th>dec</th>\n",
       "      <th>koi_kepmag</th>\n",
       "    </tr>\n",
       "  </thead>\n",
       "  <tbody>\n",
       "    <tr>\n",
       "      <td>count</td>\n",
       "      <td>6991.000000</td>\n",
       "      <td>6991.000000</td>\n",
       "      <td>6991.000000</td>\n",
       "      <td>6991.000000</td>\n",
       "      <td>6991.000000</td>\n",
       "      <td>6.991000e+03</td>\n",
       "      <td>6.991000e+03</td>\n",
       "      <td>6991.000000</td>\n",
       "      <td>6991.000000</td>\n",
       "      <td>6991.000000</td>\n",
       "      <td>...</td>\n",
       "      <td>6991.000000</td>\n",
       "      <td>6991.000000</td>\n",
       "      <td>6991.000000</td>\n",
       "      <td>6991.00000</td>\n",
       "      <td>6991.000000</td>\n",
       "      <td>6991.000000</td>\n",
       "      <td>6991.000000</td>\n",
       "      <td>6991.000000</td>\n",
       "      <td>6991.000000</td>\n",
       "      <td>6991.000000</td>\n",
       "    </tr>\n",
       "    <tr>\n",
       "      <td>mean</td>\n",
       "      <td>0.157059</td>\n",
       "      <td>0.244743</td>\n",
       "      <td>0.202975</td>\n",
       "      <td>0.125018</td>\n",
       "      <td>56.191248</td>\n",
       "      <td>1.851122e-03</td>\n",
       "      <td>-1.851122e-03</td>\n",
       "      <td>164.488820</td>\n",
       "      <td>0.009340</td>\n",
       "      <td>-0.009340</td>\n",
       "      <td>...</td>\n",
       "      <td>-161.206980</td>\n",
       "      <td>4.305049</td>\n",
       "      <td>0.121091</td>\n",
       "      <td>-0.14048</td>\n",
       "      <td>1.740749</td>\n",
       "      <td>0.352710</td>\n",
       "      <td>-0.388568</td>\n",
       "      <td>292.082406</td>\n",
       "      <td>43.812143</td>\n",
       "      <td>14.271508</td>\n",
       "    </tr>\n",
       "    <tr>\n",
       "      <td>std</td>\n",
       "      <td>0.363882</td>\n",
       "      <td>0.429966</td>\n",
       "      <td>0.402243</td>\n",
       "      <td>0.330763</td>\n",
       "      <td>117.570962</td>\n",
       "      <td>7.184503e-03</td>\n",
       "      <td>7.184503e-03</td>\n",
       "      <td>67.020475</td>\n",
       "      <td>0.021989</td>\n",
       "      <td>0.021989</td>\n",
       "      <td>...</td>\n",
       "      <td>71.448481</td>\n",
       "      <td>0.439238</td>\n",
       "      <td>0.132048</td>\n",
       "      <td>0.08199</td>\n",
       "      <td>5.903415</td>\n",
       "      <td>0.839017</td>\n",
       "      <td>1.907797</td>\n",
       "      <td>4.762908</td>\n",
       "      <td>3.606167</td>\n",
       "      <td>1.350802</td>\n",
       "    </tr>\n",
       "    <tr>\n",
       "      <td>min</td>\n",
       "      <td>0.000000</td>\n",
       "      <td>0.000000</td>\n",
       "      <td>0.000000</td>\n",
       "      <td>0.000000</td>\n",
       "      <td>0.259820</td>\n",
       "      <td>1.100000e-08</td>\n",
       "      <td>-1.568000e-01</td>\n",
       "      <td>120.515914</td>\n",
       "      <td>0.000009</td>\n",
       "      <td>-0.569000</td>\n",
       "      <td>...</td>\n",
       "      <td>-1733.000000</td>\n",
       "      <td>0.047000</td>\n",
       "      <td>0.000000</td>\n",
       "      <td>-1.00700</td>\n",
       "      <td>0.109000</td>\n",
       "      <td>0.000000</td>\n",
       "      <td>-103.825000</td>\n",
       "      <td>279.856080</td>\n",
       "      <td>36.577381</td>\n",
       "      <td>6.966000</td>\n",
       "    </tr>\n",
       "    <tr>\n",
       "      <td>25%</td>\n",
       "      <td>0.000000</td>\n",
       "      <td>0.000000</td>\n",
       "      <td>0.000000</td>\n",
       "      <td>0.000000</td>\n",
       "      <td>2.620126</td>\n",
       "      <td>5.005000e-06</td>\n",
       "      <td>-2.401000e-04</td>\n",
       "      <td>132.683917</td>\n",
       "      <td>0.001145</td>\n",
       "      <td>-0.010000</td>\n",
       "      <td>...</td>\n",
       "      <td>-197.000000</td>\n",
       "      <td>4.209000</td>\n",
       "      <td>0.044000</td>\n",
       "      <td>-0.19500</td>\n",
       "      <td>0.829000</td>\n",
       "      <td>0.128000</td>\n",
       "      <td>-0.252000</td>\n",
       "      <td>288.704730</td>\n",
       "      <td>40.797760</td>\n",
       "      <td>13.455000</td>\n",
       "    </tr>\n",
       "    <tr>\n",
       "      <td>50%</td>\n",
       "      <td>0.000000</td>\n",
       "      <td>0.000000</td>\n",
       "      <td>0.000000</td>\n",
       "      <td>0.000000</td>\n",
       "      <td>8.947426</td>\n",
       "      <td>3.300000e-05</td>\n",
       "      <td>-3.300000e-05</td>\n",
       "      <td>136.739230</td>\n",
       "      <td>0.003990</td>\n",
       "      <td>-0.003990</td>\n",
       "      <td>...</td>\n",
       "      <td>-159.000000</td>\n",
       "      <td>4.436000</td>\n",
       "      <td>0.070000</td>\n",
       "      <td>-0.12700</td>\n",
       "      <td>0.999000</td>\n",
       "      <td>0.248000</td>\n",
       "      <td>-0.111000</td>\n",
       "      <td>292.314760</td>\n",
       "      <td>43.679661</td>\n",
       "      <td>14.534000</td>\n",
       "    </tr>\n",
       "    <tr>\n",
       "      <td>75%</td>\n",
       "      <td>0.000000</td>\n",
       "      <td>0.000000</td>\n",
       "      <td>0.000000</td>\n",
       "      <td>0.000000</td>\n",
       "      <td>34.282605</td>\n",
       "      <td>2.401000e-04</td>\n",
       "      <td>-5.005000e-06</td>\n",
       "      <td>169.937005</td>\n",
       "      <td>0.010000</td>\n",
       "      <td>-0.001145</td>\n",
       "      <td>...</td>\n",
       "      <td>-112.000000</td>\n",
       "      <td>4.543000</td>\n",
       "      <td>0.149000</td>\n",
       "      <td>-0.08800</td>\n",
       "      <td>1.357000</td>\n",
       "      <td>0.357000</td>\n",
       "      <td>-0.069000</td>\n",
       "      <td>295.888550</td>\n",
       "      <td>46.693659</td>\n",
       "      <td>15.322000</td>\n",
       "    </tr>\n",
       "    <tr>\n",
       "      <td>max</td>\n",
       "      <td>1.000000</td>\n",
       "      <td>1.000000</td>\n",
       "      <td>1.000000</td>\n",
       "      <td>1.000000</td>\n",
       "      <td>1071.232624</td>\n",
       "      <td>1.568000e-01</td>\n",
       "      <td>-1.100000e-08</td>\n",
       "      <td>1472.522306</td>\n",
       "      <td>0.569000</td>\n",
       "      <td>-0.000009</td>\n",
       "      <td>...</td>\n",
       "      <td>0.000000</td>\n",
       "      <td>5.364000</td>\n",
       "      <td>1.472000</td>\n",
       "      <td>0.00000</td>\n",
       "      <td>180.013000</td>\n",
       "      <td>25.956000</td>\n",
       "      <td>0.000000</td>\n",
       "      <td>301.720760</td>\n",
       "      <td>52.336010</td>\n",
       "      <td>19.065000</td>\n",
       "    </tr>\n",
       "  </tbody>\n",
       "</table>\n",
       "<p>8 rows × 40 columns</p>\n",
       "</div>"
      ],
      "text/plain": [
       "       koi_fpflag_nt  koi_fpflag_ss  koi_fpflag_co  koi_fpflag_ec  \\\n",
       "count    6991.000000    6991.000000    6991.000000    6991.000000   \n",
       "mean        0.157059       0.244743       0.202975       0.125018   \n",
       "std         0.363882       0.429966       0.402243       0.330763   \n",
       "min         0.000000       0.000000       0.000000       0.000000   \n",
       "25%         0.000000       0.000000       0.000000       0.000000   \n",
       "50%         0.000000       0.000000       0.000000       0.000000   \n",
       "75%         0.000000       0.000000       0.000000       0.000000   \n",
       "max         1.000000       1.000000       1.000000       1.000000   \n",
       "\n",
       "        koi_period  koi_period_err1  koi_period_err2  koi_time0bk  \\\n",
       "count  6991.000000     6.991000e+03     6.991000e+03  6991.000000   \n",
       "mean     56.191248     1.851122e-03    -1.851122e-03   164.488820   \n",
       "std     117.570962     7.184503e-03     7.184503e-03    67.020475   \n",
       "min       0.259820     1.100000e-08    -1.568000e-01   120.515914   \n",
       "25%       2.620126     5.005000e-06    -2.401000e-04   132.683917   \n",
       "50%       8.947426     3.300000e-05    -3.300000e-05   136.739230   \n",
       "75%      34.282605     2.401000e-04    -5.005000e-06   169.937005   \n",
       "max    1071.232624     1.568000e-01    -1.100000e-08  1472.522306   \n",
       "\n",
       "       koi_time0bk_err1  koi_time0bk_err2  ...  koi_steff_err2    koi_slogg  \\\n",
       "count       6991.000000       6991.000000  ...     6991.000000  6991.000000   \n",
       "mean           0.009340         -0.009340  ...     -161.206980     4.305049   \n",
       "std            0.021989          0.021989  ...       71.448481     0.439238   \n",
       "min            0.000009         -0.569000  ...    -1733.000000     0.047000   \n",
       "25%            0.001145         -0.010000  ...     -197.000000     4.209000   \n",
       "50%            0.003990         -0.003990  ...     -159.000000     4.436000   \n",
       "75%            0.010000         -0.001145  ...     -112.000000     4.543000   \n",
       "max            0.569000         -0.000009  ...        0.000000     5.364000   \n",
       "\n",
       "       koi_slogg_err1  koi_slogg_err2     koi_srad  koi_srad_err1  \\\n",
       "count     6991.000000      6991.00000  6991.000000    6991.000000   \n",
       "mean         0.121091        -0.14048     1.740749       0.352710   \n",
       "std          0.132048         0.08199     5.903415       0.839017   \n",
       "min          0.000000        -1.00700     0.109000       0.000000   \n",
       "25%          0.044000        -0.19500     0.829000       0.128000   \n",
       "50%          0.070000        -0.12700     0.999000       0.248000   \n",
       "75%          0.149000        -0.08800     1.357000       0.357000   \n",
       "max          1.472000         0.00000   180.013000      25.956000   \n",
       "\n",
       "       koi_srad_err2           ra          dec   koi_kepmag  \n",
       "count    6991.000000  6991.000000  6991.000000  6991.000000  \n",
       "mean       -0.388568   292.082406    43.812143    14.271508  \n",
       "std         1.907797     4.762908     3.606167     1.350802  \n",
       "min      -103.825000   279.856080    36.577381     6.966000  \n",
       "25%        -0.252000   288.704730    40.797760    13.455000  \n",
       "50%        -0.111000   292.314760    43.679661    14.534000  \n",
       "75%        -0.069000   295.888550    46.693659    15.322000  \n",
       "max         0.000000   301.720760    52.336010    19.065000  \n",
       "\n",
       "[8 rows x 40 columns]"
      ]
     },
     "execution_count": 4,
     "metadata": {},
     "output_type": "execute_result"
    }
   ],
   "source": [
    "df.describe()"
   ]
  },
  {
   "cell_type": "markdown",
   "metadata": {},
   "source": [
    "# Select Features (columns)\n",
    "* Feature Selection: Removing irrelevant feature results in better performing model that is easeir to understands & model runs faster\n"
   ]
  },
  {
   "cell_type": "code",
   "execution_count": 5,
   "metadata": {},
   "outputs": [
    {
     "name": "stdout",
     "output_type": "stream",
     "text": [
      "['CONFIRMED' 'FALSE POSITIVE' 'CANDIDATE']\n"
     ]
    }
   ],
   "source": [
    "target_names = df[\"koi_disposition\"].unique()\n",
    "#target_names\n",
    "print(df[\"koi_disposition\"].unique())"
   ]
  },
  {
   "cell_type": "code",
   "execution_count": 6,
   "metadata": {},
   "outputs": [],
   "source": [
    "# Assign X (Independant data) and y (Dependant target)\n",
    "\n",
    "# Set X equal to the entire data set, except for the first column\n",
    "X = df.iloc[:, 1:]\n",
    "# X.head()\n",
    "\n",
    "# Set y equal to the first column\n",
    "y = df.iloc[:,0].values.reshape(-1, 1)\n",
    "# y.head()"
   ]
  },
  {
   "cell_type": "code",
   "execution_count": 7,
   "metadata": {},
   "outputs": [
    {
     "data": {
      "text/plain": [
       "array([0.13643403, 0.1510962 , 0.1296954 , 0.06021623, 0.02050111,\n",
       "       0.01276818, 0.01532974, 0.01273703, 0.02475581, 0.02906709,\n",
       "       0.01270221, 0.01050403, 0.0095014 , 0.01739827, 0.02089361,\n",
       "       0.02434746, 0.03023508, 0.01306763, 0.01500074, 0.01122412,\n",
       "       0.0129667 , 0.00999862, 0.01422634, 0.00934513, 0.00817938,\n",
       "       0.0083652 , 0.03176525, 0.00964307, 0.00911639, 0.02127287,\n",
       "       0.01493137, 0.01024276, 0.01296766, 0.01278031, 0.00845728,\n",
       "       0.00890067, 0.0085182 , 0.01150418, 0.010269  , 0.00907425])"
      ]
     },
     "execution_count": 7,
     "metadata": {},
     "output_type": "execute_result"
    }
   ],
   "source": [
    "from sklearn.ensemble import ExtraTreesClassifier\n",
    "\n",
    "# Search for top 10 features according to feature importances\n",
    "model = ExtraTreesClassifier()\n",
    "model.fit(X,y)\n",
    "model.feature_importances_\n",
    "\n",
    "# sorted(zip(model.feature_importances_, X), reverse=True)"
   ]
  },
  {
   "cell_type": "code",
   "execution_count": 8,
   "metadata": {},
   "outputs": [
    {
     "data": {
      "text/plain": [
       "koi_fpflag_ss        0.151096\n",
       "koi_fpflag_nt        0.136434\n",
       "koi_fpflag_co        0.129695\n",
       "koi_fpflag_ec        0.060216\n",
       "koi_model_snr        0.031765\n",
       "koi_depth            0.030235\n",
       "koi_time0bk_err2     0.029067\n",
       "koi_time0bk_err1     0.024756\n",
       "koi_duration_err2    0.024347\n",
       "koi_steff_err1       0.021273\n",
       "dtype: float64"
      ]
     },
     "execution_count": 8,
     "metadata": {},
     "output_type": "execute_result"
    }
   ],
   "source": [
    "# Store the top (20) features  as a series, using the column headers as the index\n",
    "top_feat = pd.Series(model.feature_importances_, index=X.columns).nlargest(10)\n",
    "top_feat"
   ]
  },
  {
   "cell_type": "code",
   "execution_count": 9,
   "metadata": {},
   "outputs": [],
   "source": [
    "# Set features based on feature importances\n",
    "X = df[top_feat.index]\n",
    "\n",
    "# Use `koi_disposition` for the y values\n",
    "y = df['koi_disposition']\n",
    "\n",
    "# y = df['koi_disposition'].values.reshape(-1, 1)"
   ]
  },
  {
   "cell_type": "markdown",
   "metadata": {},
   "source": [
    "# Create a Train Test Split"
   ]
  },
  {
   "cell_type": "code",
   "execution_count": 10,
   "metadata": {},
   "outputs": [
    {
     "data": {
      "text/html": [
       "<div>\n",
       "<style scoped>\n",
       "    .dataframe tbody tr th:only-of-type {\n",
       "        vertical-align: middle;\n",
       "    }\n",
       "\n",
       "    .dataframe tbody tr th {\n",
       "        vertical-align: top;\n",
       "    }\n",
       "\n",
       "    .dataframe thead th {\n",
       "        text-align: right;\n",
       "    }\n",
       "</style>\n",
       "<table border=\"1\" class=\"dataframe\">\n",
       "  <thead>\n",
       "    <tr style=\"text-align: right;\">\n",
       "      <th></th>\n",
       "      <th>koi_fpflag_ss</th>\n",
       "      <th>koi_fpflag_nt</th>\n",
       "      <th>koi_fpflag_co</th>\n",
       "      <th>koi_fpflag_ec</th>\n",
       "      <th>koi_model_snr</th>\n",
       "      <th>koi_depth</th>\n",
       "      <th>koi_time0bk_err2</th>\n",
       "      <th>koi_time0bk_err1</th>\n",
       "      <th>koi_duration_err2</th>\n",
       "      <th>koi_steff_err1</th>\n",
       "    </tr>\n",
       "  </thead>\n",
       "  <tbody>\n",
       "    <tr>\n",
       "      <td>3563</td>\n",
       "      <td>0</td>\n",
       "      <td>0</td>\n",
       "      <td>0</td>\n",
       "      <td>0</td>\n",
       "      <td>11.7</td>\n",
       "      <td>102.9</td>\n",
       "      <td>-0.004110</td>\n",
       "      <td>0.004110</td>\n",
       "      <td>-0.1430</td>\n",
       "      <td>120</td>\n",
       "    </tr>\n",
       "    <tr>\n",
       "      <td>4099</td>\n",
       "      <td>0</td>\n",
       "      <td>0</td>\n",
       "      <td>0</td>\n",
       "      <td>0</td>\n",
       "      <td>18.0</td>\n",
       "      <td>593.3</td>\n",
       "      <td>-0.004460</td>\n",
       "      <td>0.004460</td>\n",
       "      <td>-0.1530</td>\n",
       "      <td>144</td>\n",
       "    </tr>\n",
       "    <tr>\n",
       "      <td>5460</td>\n",
       "      <td>0</td>\n",
       "      <td>0</td>\n",
       "      <td>0</td>\n",
       "      <td>0</td>\n",
       "      <td>476.0</td>\n",
       "      <td>47337.0</td>\n",
       "      <td>-0.000096</td>\n",
       "      <td>0.000096</td>\n",
       "      <td>-0.0152</td>\n",
       "      <td>126</td>\n",
       "    </tr>\n",
       "    <tr>\n",
       "      <td>1091</td>\n",
       "      <td>0</td>\n",
       "      <td>0</td>\n",
       "      <td>0</td>\n",
       "      <td>0</td>\n",
       "      <td>34.7</td>\n",
       "      <td>584.8</td>\n",
       "      <td>-0.005290</td>\n",
       "      <td>0.005290</td>\n",
       "      <td>-0.1650</td>\n",
       "      <td>101</td>\n",
       "    </tr>\n",
       "    <tr>\n",
       "      <td>5999</td>\n",
       "      <td>0</td>\n",
       "      <td>0</td>\n",
       "      <td>0</td>\n",
       "      <td>0</td>\n",
       "      <td>8.7</td>\n",
       "      <td>193.6</td>\n",
       "      <td>-0.028600</td>\n",
       "      <td>0.028600</td>\n",
       "      <td>-0.9390</td>\n",
       "      <td>164</td>\n",
       "    </tr>\n",
       "  </tbody>\n",
       "</table>\n",
       "</div>"
      ],
      "text/plain": [
       "      koi_fpflag_ss  koi_fpflag_nt  koi_fpflag_co  koi_fpflag_ec  \\\n",
       "3563              0              0              0              0   \n",
       "4099              0              0              0              0   \n",
       "5460              0              0              0              0   \n",
       "1091              0              0              0              0   \n",
       "5999              0              0              0              0   \n",
       "\n",
       "      koi_model_snr  koi_depth  koi_time0bk_err2  koi_time0bk_err1  \\\n",
       "3563           11.7      102.9         -0.004110          0.004110   \n",
       "4099           18.0      593.3         -0.004460          0.004460   \n",
       "5460          476.0    47337.0         -0.000096          0.000096   \n",
       "1091           34.7      584.8         -0.005290          0.005290   \n",
       "5999            8.7      193.6         -0.028600          0.028600   \n",
       "\n",
       "      koi_duration_err2  koi_steff_err1  \n",
       "3563            -0.1430             120  \n",
       "4099            -0.1530             144  \n",
       "5460            -0.0152             126  \n",
       "1091            -0.1650             101  \n",
       "5999            -0.9390             164  "
      ]
     },
     "execution_count": 10,
     "metadata": {},
     "output_type": "execute_result"
    }
   ],
   "source": [
    "from sklearn.model_selection import train_test_split\n",
    "\n",
    "# Split the data into smaller buckets for training and testing\n",
    "X_train, X_test, y_train, y_test = train_test_split(X, y, random_state=1)\n",
    "X_train.head()"
   ]
  },
  {
   "cell_type": "code",
   "execution_count": 11,
   "metadata": {},
   "outputs": [
    {
     "data": {
      "text/plain": [
       "((5243, 10), (5243,))"
      ]
     },
     "execution_count": 11,
     "metadata": {},
     "output_type": "execute_result"
    }
   ],
   "source": [
    "# X and y Train shape have 5243 rows (80% of data)\n",
    "X_train.shape, y_train.shape"
   ]
  },
  {
   "cell_type": "code",
   "execution_count": 12,
   "metadata": {},
   "outputs": [
    {
     "data": {
      "text/plain": [
       "((1748, 10), (1748,))"
      ]
     },
     "execution_count": 12,
     "metadata": {},
     "output_type": "execute_result"
    }
   ],
   "source": [
    "# X and y Test shape have 1748 rows (20% of data)\n",
    "X_test.shape, y_test.shape"
   ]
  },
  {
   "cell_type": "markdown",
   "metadata": {},
   "source": [
    "# Pre-processing\n",
    "\n",
    "Scale the data using the MinMaxScaler\n",
    "\n",
    "MinMaxScaler: \n",
    "              * A way to normalize the input features/variables\n",
    "              * Features will be transformed into the range\n",
    "              * Scales the range of fetures from 0 to 1\n"
   ]
  },
  {
   "cell_type": "code",
   "execution_count": 14,
   "metadata": {},
   "outputs": [],
   "source": [
    "from sklearn.preprocessing import MinMaxScaler\n",
    "\n",
    "# Create a MinMaxScaler model and fit it to the training data\n",
    "X_scaler = MinMaxScaler().fit(X_train)\n",
    "\n",
    "#Transform the training and testing data using the X_scaler\n",
    "X_train_scaled = X_scaler.transform(X_train)\n",
    "X_test_scaled = X_scaler.transform(X_test)\n",
    "#print(np.matrix(X_test_scaled))"
   ]
  },
  {
   "cell_type": "markdown",
   "metadata": {},
   "source": [
    "# Train the Model \n",
    "* Used Forest Tree Model\n",
    "\n"
   ]
  },
  {
   "cell_type": "code",
   "execution_count": 35,
   "metadata": {
    "scrolled": true
   },
   "outputs": [
    {
     "name": "stdout",
     "output_type": "stream",
     "text": [
      "Training Data Score: 1.0\n",
      "Testing Data Score: 0.8964530892448512\n"
     ]
    }
   ],
   "source": [
    "from sklearn.ensemble import RandomForestClassifier\n",
    "\n",
    "# Create a Logistic Regression Model\n",
    "model = RandomForestClassifier(n_estimators=200)\n",
    "\n",
    "# Train (Fit) the model to the data\n",
    "model.fit(X_train_scaled, y_train)\n",
    "\n",
    "# Validate the model using the test data\n",
    "print(f\"Training Data Score: {model.score(X_train_scaled, y_train)}\")\n",
    "print(f\"Testing Data Score: {model.score(X_test_scaled, y_test)}\")\n",
    "\n",
    "# Printed the r2 score for the test data, testing is lower than training which is good we are not over feeding"
   ]
  },
  {
   "cell_type": "markdown",
   "metadata": {},
   "source": [
    "## Prediction"
   ]
  },
  {
   "cell_type": "code",
   "execution_count": 36,
   "metadata": {},
   "outputs": [
    {
     "data": {
      "text/html": [
       "<div>\n",
       "<style scoped>\n",
       "    .dataframe tbody tr th:only-of-type {\n",
       "        vertical-align: middle;\n",
       "    }\n",
       "\n",
       "    .dataframe tbody tr th {\n",
       "        vertical-align: top;\n",
       "    }\n",
       "\n",
       "    .dataframe thead th {\n",
       "        text-align: right;\n",
       "    }\n",
       "</style>\n",
       "<table border=\"1\" class=\"dataframe\">\n",
       "  <thead>\n",
       "    <tr style=\"text-align: right;\">\n",
       "      <th></th>\n",
       "      <th>Actual</th>\n",
       "      <th>Predicted</th>\n",
       "    </tr>\n",
       "  </thead>\n",
       "  <tbody>\n",
       "    <tr>\n",
       "      <td>1213</td>\n",
       "      <td>CONFIRMED</td>\n",
       "      <td>CANDIDATE</td>\n",
       "    </tr>\n",
       "    <tr>\n",
       "      <td>5220</td>\n",
       "      <td>FALSE POSITIVE</td>\n",
       "      <td>FALSE POSITIVE</td>\n",
       "    </tr>\n",
       "    <tr>\n",
       "      <td>6688</td>\n",
       "      <td>FALSE POSITIVE</td>\n",
       "      <td>FALSE POSITIVE</td>\n",
       "    </tr>\n",
       "    <tr>\n",
       "      <td>2031</td>\n",
       "      <td>CONFIRMED</td>\n",
       "      <td>CONFIRMED</td>\n",
       "    </tr>\n",
       "    <tr>\n",
       "      <td>5824</td>\n",
       "      <td>FALSE POSITIVE</td>\n",
       "      <td>FALSE POSITIVE</td>\n",
       "    </tr>\n",
       "  </tbody>\n",
       "</table>\n",
       "</div>"
      ],
      "text/plain": [
       "              Actual       Predicted\n",
       "1213       CONFIRMED       CANDIDATE\n",
       "5220  FALSE POSITIVE  FALSE POSITIVE\n",
       "6688  FALSE POSITIVE  FALSE POSITIVE\n",
       "2031       CONFIRMED       CONFIRMED\n",
       "5824  FALSE POSITIVE  FALSE POSITIVE"
      ]
     },
     "execution_count": 36,
     "metadata": {},
     "output_type": "execute_result"
    }
   ],
   "source": [
    "predictions = model.predict(X_test_scaled)\n",
    "\n",
    "# print(f\"first 10 Predictions{predictions[:10].tolist()}\")\n",
    "# print(f\"first 10 Actual{y_test[:10].tolist()}\")\n",
    "\n",
    "# Printing into a Dataframe (y_test can't be reshap on top)\n",
    "df_pred = pd.DataFrame({\"Actual\":y_test, \"Predicted\":predictions}) \n",
    "df_pred.head()"
   ]
  },
  {
   "cell_type": "markdown",
   "metadata": {},
   "source": [
    "# Hyperparameter Tuning ???????\n",
    "\n",
    "Use `GridSearchCV` to tune the model's parameters"
   ]
  },
  {
   "cell_type": "code",
   "execution_count": null,
   "metadata": {},
   "outputs": [],
   "source": [
    "from sklearn.svm import SVC\n",
    "\n",
    "# Create the GridSearchCV model\n",
    "model = SVC(kernel='linear')\n",
    "model.fit(X_train_scaled, y_train)"
   ]
  },
  {
   "cell_type": "markdown",
   "metadata": {},
   "source": [
    "## Accuracy"
   ]
  },
  {
   "cell_type": "code",
   "execution_count": 37,
   "metadata": {},
   "outputs": [
    {
     "data": {
      "text/plain": [
       "0.715675057208238"
      ]
     },
     "execution_count": 37,
     "metadata": {},
     "output_type": "execute_result"
    }
   ],
   "source": [
    "# Predicting the Test set results\n",
    "y_predic = model.predict(X_test)\n",
    "\n",
    "# Making the confusion Matrix\n",
    "from sklearn.metrics import confusion_matrix\n",
    "cm = confusion_matrix(y_test, y_predic)\n",
    "\n",
    "from sklearn.metrics import accuracy_score\n",
    "accuracy = accuracy_score(y_test, y_predic)\n",
    "\n",
    "accuracy"
   ]
  },
  {
   "cell_type": "code",
   "execution_count": 38,
   "metadata": {},
   "outputs": [],
   "source": [
    "from sklearn.model_selection import GridSearchCV\n",
    "\n",
    "param_grid = {'C': [1, 5, 10, 20, 50],\n",
    "              'gamma': [0.0001,0.001, 0.01, 0.0005, 0.005]}\n",
    "\n",
    "grid = GridSearchCV(model, param_grid, verbose=3)\n"
   ]
  },
  {
   "cell_type": "code",
   "execution_count": 39,
   "metadata": {},
   "outputs": [
    {
     "name": "stdout",
     "output_type": "stream",
     "text": [
      "Fitting 3 folds for each of 25 candidates, totalling 75 fits\n",
      "[CV] C=1, gamma=0.0001 ...............................................\n",
      "[CV] ................... C=1, gamma=0.0001, score=0.833, total=   0.1s\n",
      "[CV] C=1, gamma=0.0001 ...............................................\n",
      "[CV] ................... C=1, gamma=0.0001, score=0.818, total=   0.1s\n",
      "[CV] C=1, gamma=0.0001 ...............................................\n"
     ]
    },
    {
     "name": "stderr",
     "output_type": "stream",
     "text": [
      "[Parallel(n_jobs=1)]: Using backend SequentialBackend with 1 concurrent workers.\n",
      "[Parallel(n_jobs=1)]: Done   1 out of   1 | elapsed:    0.0s remaining:    0.0s\n",
      "[Parallel(n_jobs=1)]: Done   2 out of   2 | elapsed:    0.1s remaining:    0.0s\n"
     ]
    },
    {
     "name": "stdout",
     "output_type": "stream",
     "text": [
      "[CV] ................... C=1, gamma=0.0001, score=0.817, total=   0.1s\n",
      "[CV] C=1, gamma=0.001 ................................................\n",
      "[CV] .................... C=1, gamma=0.001, score=0.833, total=   0.1s\n",
      "[CV] C=1, gamma=0.001 ................................................\n",
      "[CV] .................... C=1, gamma=0.001, score=0.818, total=   0.1s\n",
      "[CV] C=1, gamma=0.001 ................................................\n",
      "[CV] .................... C=1, gamma=0.001, score=0.817, total=   0.1s\n",
      "[CV] C=1, gamma=0.01 .................................................\n",
      "[CV] ..................... C=1, gamma=0.01, score=0.833, total=   0.1s\n",
      "[CV] C=1, gamma=0.01 .................................................\n",
      "[CV] ..................... C=1, gamma=0.01, score=0.818, total=   0.1s\n",
      "[CV] C=1, gamma=0.01 .................................................\n",
      "[CV] ..................... C=1, gamma=0.01, score=0.817, total=   0.1s\n",
      "[CV] C=1, gamma=0.0005 ...............................................\n",
      "[CV] ................... C=1, gamma=0.0005, score=0.833, total=   0.1s\n",
      "[CV] C=1, gamma=0.0005 ...............................................\n",
      "[CV] ................... C=1, gamma=0.0005, score=0.818, total=   0.1s\n",
      "[CV] C=1, gamma=0.0005 ...............................................\n",
      "[CV] ................... C=1, gamma=0.0005, score=0.817, total=   0.1s\n",
      "[CV] C=1, gamma=0.005 ................................................\n",
      "[CV] .................... C=1, gamma=0.005, score=0.833, total=   0.1s\n",
      "[CV] C=1, gamma=0.005 ................................................\n",
      "[CV] .................... C=1, gamma=0.005, score=0.818, total=   0.1s\n",
      "[CV] C=1, gamma=0.005 ................................................\n",
      "[CV] .................... C=1, gamma=0.005, score=0.817, total=   0.1s\n",
      "[CV] C=5, gamma=0.0001 ...............................................\n",
      "[CV] ................... C=5, gamma=0.0001, score=0.850, total=   0.1s\n",
      "[CV] C=5, gamma=0.0001 ...............................................\n",
      "[CV] ................... C=5, gamma=0.0001, score=0.838, total=   0.1s\n",
      "[CV] C=5, gamma=0.0001 ...............................................\n",
      "[CV] ................... C=5, gamma=0.0001, score=0.827, total=   0.1s\n",
      "[CV] C=5, gamma=0.001 ................................................\n",
      "[CV] .................... C=5, gamma=0.001, score=0.850, total=   0.1s\n",
      "[CV] C=5, gamma=0.001 ................................................\n",
      "[CV] .................... C=5, gamma=0.001, score=0.838, total=   0.1s\n",
      "[CV] C=5, gamma=0.001 ................................................\n",
      "[CV] .................... C=5, gamma=0.001, score=0.827, total=   0.1s\n",
      "[CV] C=5, gamma=0.01 .................................................\n",
      "[CV] ..................... C=5, gamma=0.01, score=0.850, total=   0.1s\n",
      "[CV] C=5, gamma=0.01 .................................................\n",
      "[CV] ..................... C=5, gamma=0.01, score=0.838, total=   0.1s\n",
      "[CV] C=5, gamma=0.01 .................................................\n",
      "[CV] ..................... C=5, gamma=0.01, score=0.827, total=   0.1s\n",
      "[CV] C=5, gamma=0.0005 ...............................................\n",
      "[CV] ................... C=5, gamma=0.0005, score=0.850, total=   0.1s\n",
      "[CV] C=5, gamma=0.0005 ...............................................\n",
      "[CV] ................... C=5, gamma=0.0005, score=0.838, total=   0.1s\n",
      "[CV] C=5, gamma=0.0005 ...............................................\n",
      "[CV] ................... C=5, gamma=0.0005, score=0.827, total=   0.1s\n",
      "[CV] C=5, gamma=0.005 ................................................\n",
      "[CV] .................... C=5, gamma=0.005, score=0.850, total=   0.1s\n",
      "[CV] C=5, gamma=0.005 ................................................\n",
      "[CV] .................... C=5, gamma=0.005, score=0.838, total=   0.1s\n",
      "[CV] C=5, gamma=0.005 ................................................\n",
      "[CV] .................... C=5, gamma=0.005, score=0.827, total=   0.1s\n",
      "[CV] C=10, gamma=0.0001 ..............................................\n",
      "[CV] .................. C=10, gamma=0.0001, score=0.854, total=   0.1s\n",
      "[CV] C=10, gamma=0.0001 ..............................................\n",
      "[CV] .................. C=10, gamma=0.0001, score=0.836, total=   0.1s\n",
      "[CV] C=10, gamma=0.0001 ..............................................\n",
      "[CV] .................. C=10, gamma=0.0001, score=0.836, total=   0.1s\n",
      "[CV] C=10, gamma=0.001 ...............................................\n",
      "[CV] ................... C=10, gamma=0.001, score=0.854, total=   0.1s\n",
      "[CV] C=10, gamma=0.001 ...............................................\n",
      "[CV] ................... C=10, gamma=0.001, score=0.836, total=   0.1s\n",
      "[CV] C=10, gamma=0.001 ...............................................\n",
      "[CV] ................... C=10, gamma=0.001, score=0.836, total=   0.1s\n",
      "[CV] C=10, gamma=0.01 ................................................\n",
      "[CV] .................... C=10, gamma=0.01, score=0.854, total=   0.1s\n",
      "[CV] C=10, gamma=0.01 ................................................\n",
      "[CV] .................... C=10, gamma=0.01, score=0.836, total=   0.1s\n",
      "[CV] C=10, gamma=0.01 ................................................\n",
      "[CV] .................... C=10, gamma=0.01, score=0.836, total=   0.1s\n",
      "[CV] C=10, gamma=0.0005 ..............................................\n",
      "[CV] .................. C=10, gamma=0.0005, score=0.854, total=   0.1s\n",
      "[CV] C=10, gamma=0.0005 ..............................................\n",
      "[CV] .................. C=10, gamma=0.0005, score=0.836, total=   0.1s\n",
      "[CV] C=10, gamma=0.0005 ..............................................\n",
      "[CV] .................. C=10, gamma=0.0005, score=0.836, total=   0.1s\n",
      "[CV] C=10, gamma=0.005 ...............................................\n",
      "[CV] ................... C=10, gamma=0.005, score=0.854, total=   0.1s\n",
      "[CV] C=10, gamma=0.005 ...............................................\n",
      "[CV] ................... C=10, gamma=0.005, score=0.836, total=   0.1s\n",
      "[CV] C=10, gamma=0.005 ...............................................\n",
      "[CV] ................... C=10, gamma=0.005, score=0.836, total=   0.1s\n",
      "[CV] C=20, gamma=0.0001 ..............................................\n",
      "[CV] .................. C=20, gamma=0.0001, score=0.858, total=   0.1s\n",
      "[CV] C=20, gamma=0.0001 ..............................................\n",
      "[CV] .................. C=20, gamma=0.0001, score=0.842, total=   0.1s\n",
      "[CV] C=20, gamma=0.0001 ..............................................\n",
      "[CV] .................. C=20, gamma=0.0001, score=0.841, total=   0.1s\n",
      "[CV] C=20, gamma=0.001 ...............................................\n",
      "[CV] ................... C=20, gamma=0.001, score=0.858, total=   0.1s\n",
      "[CV] C=20, gamma=0.001 ...............................................\n",
      "[CV] ................... C=20, gamma=0.001, score=0.842, total=   0.1s\n",
      "[CV] C=20, gamma=0.001 ...............................................\n",
      "[CV] ................... C=20, gamma=0.001, score=0.841, total=   0.1s\n",
      "[CV] C=20, gamma=0.01 ................................................\n",
      "[CV] .................... C=20, gamma=0.01, score=0.858, total=   0.1s\n",
      "[CV] C=20, gamma=0.01 ................................................\n",
      "[CV] .................... C=20, gamma=0.01, score=0.842, total=   0.1s\n",
      "[CV] C=20, gamma=0.01 ................................................\n",
      "[CV] .................... C=20, gamma=0.01, score=0.841, total=   0.1s\n",
      "[CV] C=20, gamma=0.0005 ..............................................\n",
      "[CV] .................. C=20, gamma=0.0005, score=0.858, total=   0.1s\n",
      "[CV] C=20, gamma=0.0005 ..............................................\n",
      "[CV] .................. C=20, gamma=0.0005, score=0.842, total=   0.1s\n",
      "[CV] C=20, gamma=0.0005 ..............................................\n",
      "[CV] .................. C=20, gamma=0.0005, score=0.841, total=   0.1s\n",
      "[CV] C=20, gamma=0.005 ...............................................\n",
      "[CV] ................... C=20, gamma=0.005, score=0.858, total=   0.1s\n",
      "[CV] C=20, gamma=0.005 ...............................................\n",
      "[CV] ................... C=20, gamma=0.005, score=0.842, total=   0.1s\n",
      "[CV] C=20, gamma=0.005 ...............................................\n",
      "[CV] ................... C=20, gamma=0.005, score=0.841, total=   0.1s\n",
      "[CV] C=50, gamma=0.0001 ..............................................\n"
     ]
    },
    {
     "name": "stdout",
     "output_type": "stream",
     "text": [
      "[CV] .................. C=50, gamma=0.0001, score=0.862, total=   0.1s\n",
      "[CV] C=50, gamma=0.0001 ..............................................\n",
      "[CV] .................. C=50, gamma=0.0001, score=0.842, total=   0.1s\n",
      "[CV] C=50, gamma=0.0001 ..............................................\n",
      "[CV] .................. C=50, gamma=0.0001, score=0.843, total=   0.1s\n",
      "[CV] C=50, gamma=0.001 ...............................................\n",
      "[CV] ................... C=50, gamma=0.001, score=0.862, total=   0.1s\n",
      "[CV] C=50, gamma=0.001 ...............................................\n",
      "[CV] ................... C=50, gamma=0.001, score=0.842, total=   0.1s\n",
      "[CV] C=50, gamma=0.001 ...............................................\n",
      "[CV] ................... C=50, gamma=0.001, score=0.843, total=   0.1s\n",
      "[CV] C=50, gamma=0.01 ................................................\n",
      "[CV] .................... C=50, gamma=0.01, score=0.862, total=   0.1s\n",
      "[CV] C=50, gamma=0.01 ................................................\n",
      "[CV] .................... C=50, gamma=0.01, score=0.842, total=   0.1s\n",
      "[CV] C=50, gamma=0.01 ................................................\n",
      "[CV] .................... C=50, gamma=0.01, score=0.843, total=   0.1s\n",
      "[CV] C=50, gamma=0.0005 ..............................................\n",
      "[CV] .................. C=50, gamma=0.0005, score=0.862, total=   0.1s\n",
      "[CV] C=50, gamma=0.0005 ..............................................\n",
      "[CV] .................. C=50, gamma=0.0005, score=0.842, total=   0.1s\n",
      "[CV] C=50, gamma=0.0005 ..............................................\n",
      "[CV] .................. C=50, gamma=0.0005, score=0.843, total=   0.1s\n",
      "[CV] C=50, gamma=0.005 ...............................................\n",
      "[CV] ................... C=50, gamma=0.005, score=0.862, total=   0.1s\n",
      "[CV] C=50, gamma=0.005 ...............................................\n",
      "[CV] ................... C=50, gamma=0.005, score=0.842, total=   0.1s\n",
      "[CV] C=50, gamma=0.005 ...............................................\n",
      "[CV] ................... C=50, gamma=0.005, score=0.843, total=   0.1s\n"
     ]
    },
    {
     "name": "stderr",
     "output_type": "stream",
     "text": [
      "[Parallel(n_jobs=1)]: Done  75 out of  75 | elapsed:    6.6s finished\n"
     ]
    },
    {
     "data": {
      "text/plain": [
       "GridSearchCV(cv='warn', error_score='raise-deprecating',\n",
       "             estimator=SVC(C=1.0, cache_size=200, class_weight=None, coef0=0.0,\n",
       "                           decision_function_shape='ovr', degree=3,\n",
       "                           gamma='auto_deprecated', kernel='linear',\n",
       "                           max_iter=-1, probability=False, random_state=None,\n",
       "                           shrinking=True, tol=0.001, verbose=False),\n",
       "             iid='warn', n_jobs=None,\n",
       "             param_grid={'C': [1, 5, 10, 20, 50],\n",
       "                         'gamma': [0.0001, 0.001, 0.01, 0.0005, 0.005]},\n",
       "             pre_dispatch='2*n_jobs', refit=True, return_train_score=False,\n",
       "             scoring=None, verbose=3)"
      ]
     },
     "execution_count": 39,
     "metadata": {},
     "output_type": "execute_result"
    }
   ],
   "source": [
    "# Train the model with GridSearch\n",
    "\n",
    "grid.fit(X_train_scaled, y_train)"
   ]
  },
  {
   "cell_type": "code",
   "execution_count": 40,
   "metadata": {},
   "outputs": [
    {
     "name": "stdout",
     "output_type": "stream",
     "text": [
      "{'C': 50, 'gamma': 0.0001}\n",
      "Best Score:  0.8491321762349799\n"
     ]
    }
   ],
   "source": [
    "# List the best parameters for this dataset\n",
    "print(grid.best_params_)\n",
    "\n",
    "# List the best score\n",
    "print('Best Score: ', grid.best_score_)"
   ]
  },
  {
   "cell_type": "code",
   "execution_count": 41,
   "metadata": {},
   "outputs": [
    {
     "data": {
      "text/plain": [
       "0.870137299771167"
      ]
     },
     "execution_count": 41,
     "metadata": {},
     "output_type": "execute_result"
    }
   ],
   "source": [
    "# Score the model\n",
    "grid.score(X_test_scaled, y_test)"
   ]
  },
  {
   "cell_type": "code",
   "execution_count": 42,
   "metadata": {},
   "outputs": [
    {
     "data": {
      "text/html": [
       "<div>\n",
       "<style scoped>\n",
       "    .dataframe tbody tr th:only-of-type {\n",
       "        vertical-align: middle;\n",
       "    }\n",
       "\n",
       "    .dataframe tbody tr th {\n",
       "        vertical-align: top;\n",
       "    }\n",
       "\n",
       "    .dataframe thead th {\n",
       "        text-align: right;\n",
       "    }\n",
       "</style>\n",
       "<table border=\"1\" class=\"dataframe\">\n",
       "  <thead>\n",
       "    <tr style=\"text-align: right;\">\n",
       "      <th></th>\n",
       "      <th>Actual</th>\n",
       "      <th>Predicted</th>\n",
       "    </tr>\n",
       "  </thead>\n",
       "  <tbody>\n",
       "    <tr>\n",
       "      <td>1213</td>\n",
       "      <td>CONFIRMED</td>\n",
       "      <td>CONFIRMED</td>\n",
       "    </tr>\n",
       "    <tr>\n",
       "      <td>5220</td>\n",
       "      <td>FALSE POSITIVE</td>\n",
       "      <td>FALSE POSITIVE</td>\n",
       "    </tr>\n",
       "    <tr>\n",
       "      <td>6688</td>\n",
       "      <td>FALSE POSITIVE</td>\n",
       "      <td>FALSE POSITIVE</td>\n",
       "    </tr>\n",
       "    <tr>\n",
       "      <td>2031</td>\n",
       "      <td>CONFIRMED</td>\n",
       "      <td>CONFIRMED</td>\n",
       "    </tr>\n",
       "    <tr>\n",
       "      <td>5824</td>\n",
       "      <td>FALSE POSITIVE</td>\n",
       "      <td>FALSE POSITIVE</td>\n",
       "    </tr>\n",
       "  </tbody>\n",
       "</table>\n",
       "</div>"
      ],
      "text/plain": [
       "              Actual       Predicted\n",
       "1213       CONFIRMED       CONFIRMED\n",
       "5220  FALSE POSITIVE  FALSE POSITIVE\n",
       "6688  FALSE POSITIVE  FALSE POSITIVE\n",
       "2031       CONFIRMED       CONFIRMED\n",
       "5824  FALSE POSITIVE  FALSE POSITIVE"
      ]
     },
     "execution_count": 42,
     "metadata": {},
     "output_type": "execute_result"
    }
   ],
   "source": [
    "# Make predictions with the hypertuned model\n",
    "predictions = grid.predict(X_test_scaled)\n",
    "df_grid = pd.DataFrame({\"Actual\":y_test, \"Predicted\":predictions}) \n",
    "df_grid.head()"
   ]
  },
  {
   "cell_type": "code",
   "execution_count": 43,
   "metadata": {},
   "outputs": [
    {
     "name": "stdout",
     "output_type": "stream",
     "text": [
      "                precision    recall  f1-score   support\n",
      "\n",
      "     CONFIRMED       0.85      0.55      0.67       404\n",
      "FALSE POSITIVE       0.68      0.90      0.78       435\n",
      "     CANDIDATE       0.99      1.00      0.99       909\n",
      "\n",
      "      accuracy                           0.87      1748\n",
      "     macro avg       0.84      0.82      0.81      1748\n",
      "  weighted avg       0.88      0.87      0.87      1748\n",
      "\n"
     ]
    }
   ],
   "source": [
    "# Calculate classification report\n",
    "# print(np.array(y_test))\n",
    "\n",
    "from sklearn.metrics import classification_report\n",
    "print(classification_report(y_test, predictions,\n",
    "                            target_names=target_names))"
   ]
  },
  {
   "cell_type": "markdown",
   "metadata": {},
   "source": [
    "# Save the Model"
   ]
  },
  {
   "cell_type": "code",
   "execution_count": 47,
   "metadata": {},
   "outputs": [
    {
     "data": {
      "text/plain": [
       "['RandomForestClassifier.sav']"
      ]
     },
     "execution_count": 47,
     "metadata": {},
     "output_type": "execute_result"
    }
   ],
   "source": [
    "import joblib\n",
    "filename = 'RandomForestClassifier.sav'\n",
    "joblib.dump(RandomForestClassifier, filename)"
   ]
  },
  {
   "cell_type": "code",
   "execution_count": null,
   "metadata": {},
   "outputs": [],
   "source": []
  }
 ],
 "metadata": {
  "kernel_info": {
   "name": "dev"
  },
  "kernelspec": {
   "display_name": "Python 3",
   "language": "python",
   "name": "python3"
  },
  "language_info": {
   "codemirror_mode": {
    "name": "ipython",
    "version": 3
   },
   "file_extension": ".py",
   "mimetype": "text/x-python",
   "name": "python",
   "nbconvert_exporter": "python",
   "pygments_lexer": "ipython3",
   "version": "3.7.4"
  },
  "nteract": {
   "version": "0.12.3"
  }
 },
 "nbformat": 4,
 "nbformat_minor": 2
}
